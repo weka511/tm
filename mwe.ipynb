{
 "cells": [
  {
   "cell_type": "code",
   "execution_count": 1,
   "id": "32cbd103-ba7a-459a-9079-5e8a61409674",
   "metadata": {},
   "outputs": [],
   "source": [
    "import pytearcat as pt"
   ]
  },
  {
   "cell_type": "code",
   "execution_count": 2,
   "id": "bb7b3f1b-db49-4a6d-af2b-749149cc5597",
   "metadata": {},
   "outputs": [
    {
     "name": "stdout",
     "output_type": "stream",
     "text": [
      "Remember that the time coordinate must be the first coordinate.\n",
      "\n",
      "Dimension = 4\n",
      "Coordinates = t,r,theta,phi\n",
      "Metric defined successfully: \n",
      "\n"
     ]
    },
    {
     "data": {
      "text/latex": [
       "$\\displaystyle ds^2 = e^{\\nu{\\left(t,r \\right)}} \\cdot dt^2- e^{\\lambda_{}{\\left(t,r \\right)}} \\cdot dr^2- r^{2} \\cdot d\\theta^2- r^{2} \\sin^{2}{\\left(\\theta \\right)} \\cdot d\\phi^2$"
      ],
      "text/plain": [
       "<IPython.core.display.Math object>"
      ]
     },
     "metadata": {},
     "output_type": "display_data"
    },
    {
     "data": {
      "text/latex": [
       "$\\displaystyle \\left[\\begin{matrix}e^{\\nu{\\left(t,r \\right)}} & 0 & 0 & 0\\\\0 & - e^{\\lambda_{}{\\left(t,r \\right)}} & 0 & 0\\\\0 & 0 & - r^{2} & 0\\\\0 & 0 & 0 & - r^{2} \\sin^{2}{\\left(\\theta \\right)}\\end{matrix}\\right]$"
      ],
      "text/plain": [
       "Matrix([\n",
       "[exp(nu(t, r)),                   0,     0,                   0],\n",
       "[            0, -exp(lambda_(t, r)),     0,                   0],\n",
       "[            0,                   0, -r**2,                   0],\n",
       "[            0,                   0,     0, -r**2*sin(theta)**2]])"
      ]
     },
     "metadata": {},
     "output_type": "display_data"
    },
    {
     "data": {
      "image/png": "[encoded data removed]",
      "text/latex": [
       "$\\displaystyle \\left[\\begin{matrix}1 & 0 & 0 & 0\\\\0 & 1 & 0 & 0\\\\0 & 0 & 1 & 0\\\\0 & 0 & 0 & 1\\end{matrix}\\right]$"
      ],
      "text/plain": [
       "⎡1  0  0  0⎤\n",
       "⎢          ⎥\n",
       "⎢0  1  0  0⎥\n",
       "⎢          ⎥\n",
       "⎢0  0  1  0⎥\n",
       "⎢          ⎥\n",
       "⎣0  0  0  1⎦"
      ]
     },
     "metadata": {},
     "output_type": "display_data"
    },
    {
     "data": {
      "image/png": "[encoded data removed]",
      "text/latex": [
       "$\\displaystyle \\left[\\begin{matrix}e^{- \\nu{\\left(t,r \\right)}} & 0 & 0 & 0\\\\0 & - e^{- \\lambda_{}{\\left(t,r \\right)}} & 0 & 0\\\\0 & 0 & - \\frac{1}{r^{2}} & 0\\\\0 & 0 & 0 & - \\frac{1}{r^{2} \\sin^{2}{\\left(\\theta \\right)}}\\end{matrix}\\right]$"
      ],
      "text/plain": [
       "⎡ -ν(t, r)                             ⎤\n",
       "⎢ℯ              0        0       0     ⎥\n",
       "⎢                                      ⎥\n",
       "⎢             -λ(t, r)                 ⎥\n",
       "⎢    0      -ℯ           0       0     ⎥\n",
       "⎢                                      ⎥\n",
       "⎢                       -1             ⎥\n",
       "⎢    0          0       ───      0     ⎥\n",
       "⎢                         2            ⎥\n",
       "⎢                        r             ⎥\n",
       "⎢                                      ⎥\n",
       "⎢                               -1     ⎥\n",
       "⎢    0          0        0   ──────────⎥\n",
       "⎢                             2    2   ⎥\n",
       "⎣                            r ⋅sin (θ)⎦"
      ]
     },
     "metadata": {},
     "output_type": "display_data"
    }
   ],
   "source": [
    "t,r,theta,phi = pt.coords('t,r,theta,phi')\n",
    "nu = pt.fun('nu','t,r')\n",
    "lambda_ = pt.fun('lambda_','t,r')\n",
    "ds = 'ds2 = exp(nu)*dt**2 - exp(lambda_)*dr**2 - r**2*(dtheta**2 + sin(theta)**2 *dphi**2)'\n",
    "g = pt.metric(ds)\n",
    "g.display('^,_') #This displays the expected result\n",
    "g.display('^,^') #This displays the expected result"
   ]
  },
  {
   "cell_type": "code",
   "execution_count": null,
   "id": "15957515-599f-4e71-8c93-46049fa99670",
   "metadata": {},
   "outputs": [
    {
     "data": {
      "text/latex": [
       "Christoffel $\\Gamma_{\\alpha \\beta \\gamma}$ and $\\Gamma^{\\alpha}_{\\beta \\gamma}$"
      ],
      "text/plain": [
       "<IPython.core.display.Latex object>"
      ]
     },
     "metadata": {},
     "output_type": "display_data"
    },
    {
     "data": {
      "application/vnd.jupyter.widget-view+json": {
       "model_id": "2efaae55a2bf47a7a09ed7eaef679c27",
       "version_major": 2,
       "version_minor": 0
      },
      "text/plain": [
       "  0%|          | 0/64 [00:00<?, ?it/s]"
      ]
     },
     "metadata": {},
     "output_type": "display_data"
    },
    {
     "data": {
      "text/latex": [
       "Riemann Tensor $R^{\\alpha}_{\\beta \\gamma \\delta}$"
      ],
      "text/plain": [
       "<IPython.core.display.Latex object>"
      ]
     },
     "metadata": {},
     "output_type": "display_data"
    },
    {
     "data": {
      "application/vnd.jupyter.widget-view+json": {
       "model_id": "fcac6c4b16e0445088592ecb4abe9877",
       "version_major": 2,
       "version_minor": 0
      },
      "text/plain": [
       "  0%|          | 0/256 [00:00<?, ?it/s]"
      ]
     },
     "metadata": {},
     "output_type": "display_data"
    },
    {
     "data": {
      "text/latex": [
       "Ricci Tensor $R_{\\alpha \\beta}$"
      ],
      "text/plain": [
       "<IPython.core.display.Latex object>"
      ]
     },
     "metadata": {},
     "output_type": "display_data"
    },
    {
     "data": {
      "application/vnd.jupyter.widget-view+json": {
       "model_id": "efd753009d7946deb283534e1fc0df91",
       "version_major": 2,
       "version_minor": 0
      },
      "text/plain": [
       "  0%|          | 0/16 [00:00<?, ?it/s]"
      ]
     },
     "metadata": {},
     "output_type": "display_data"
    },
    {
     "data": {
      "image/png": "[encoded data removed]",
      "text/latex": [
       "$\\displaystyle \\left[\\begin{matrix}- \\frac{\\left(r e^{\\lambda_{}{\\left(t,r \\right)}} \\left(\\frac{\\partial}{\\partial t} \\lambda_{}{\\left(t,r \\right)}\\right)^{2} - r e^{\\lambda_{}{\\left(t,r \\right)}} \\frac{\\partial}{\\partial t} \\lambda_{}{\\left(t,r \\right)} \\frac{\\partial}{\\partial t} \\nu{\\left(t,r \\right)} + 2 r e^{\\lambda_{}{\\left(t,r \\right)}} \\frac{\\partial^{2}}{\\partial t^{2}} \\lambda_{}{\\left(t,r \\right)} + r e^{\\nu{\\left(t,r \\right)}} \\frac{\\partial}{\\partial r} \\lambda_{}{\\left(t,r \\right)} \\frac{\\partial}{\\partial r} \\nu{\\left(t,r \\right)} - r e^{\\nu{\\left(t,r \\right)}} \\left(\\frac{\\partial}{\\partial r} \\nu{\\left(t,r \\right)}\\right)^{2} - 2 r e^{\\nu{\\left(t,r \\right)}} \\frac{\\partial^{2}}{\\partial r^{2}} \\nu{\\left(t,r \\right)} - 4 e^{\\nu{\\left(t,r \\right)}} \\frac{\\partial}{\\partial r} \\nu{\\left(t,r \\right)}\\right) e^{- \\lambda_{}{\\left(t,r \\right)}}}{4 r} & \\frac{\\frac{\\partial}{\\partial t} \\lambda_{}{\\left(t,r \\right)}}{r} & 0 & 0\\\\\\frac{\\frac{\\partial}{\\partial t} \\lambda_{}{\\left(t,r \\right)}}{r} & \\frac{\\left(r e^{\\lambda_{}{\\left(t,r \\right)}} \\left(\\frac{\\partial}{\\partial t} \\lambda_{}{\\left(t,r \\right)}\\right)^{2} - r e^{\\lambda_{}{\\left(t,r \\right)}} \\frac{\\partial}{\\partial t} \\lambda_{}{\\left(t,r \\right)} \\frac{\\partial}{\\partial t} \\nu{\\left(t,r \\right)} + 2 r e^{\\lambda_{}{\\left(t,r \\right)}} \\frac{\\partial^{2}}{\\partial t^{2}} \\lambda_{}{\\left(t,r \\right)} + r e^{\\nu{\\left(t,r \\right)}} \\frac{\\partial}{\\partial r} \\lambda_{}{\\left(t,r \\right)} \\frac{\\partial}{\\partial r} \\nu{\\left(t,r \\right)} - r e^{\\nu{\\left(t,r \\right)}} \\left(\\frac{\\partial}{\\partial r} \\nu{\\left(t,r \\right)}\\right)^{2} - 2 r e^{\\nu{\\left(t,r \\right)}} \\frac{\\partial^{2}}{\\partial r^{2}} \\nu{\\left(t,r \\right)} + 4 e^{\\nu{\\left(t,r \\right)}} \\frac{\\partial}{\\partial r} \\lambda_{}{\\left(t,r \\right)}\\right) e^{- \\nu{\\left(t,r \\right)}}}{4 r} & 0 & 0\\\\0 & 0 & \\frac{\\left(r \\frac{\\partial}{\\partial r} \\lambda_{}{\\left(t,r \\right)} - r \\frac{\\partial}{\\partial r} \\nu{\\left(t,r \\right)} + 2 e^{\\lambda_{}{\\left(t,r \\right)}} - 2\\right) e^{- \\lambda_{}{\\left(t,r \\right)}}}{2} & 0\\\\0 & 0 & 0 & \\frac{\\left(r \\frac{\\partial}{\\partial r} \\lambda_{}{\\left(t,r \\right)} - r \\frac{\\partial}{\\partial r} \\nu{\\left(t,r \\right)} + 2 e^{\\lambda_{}{\\left(t,r \\right)}} - 2\\right) e^{- \\lambda_{}{\\left(t,r \\right)}} \\sin^{2}{\\left(\\theta \\right)}}{2}\\end{matrix}\\right]$"
      ],
      "text/plain": [
       "⎡ ⎛                        2                                                  \n",
       "⎢ ⎜   λ(t, r) ⎛∂          ⎞       λ(t, r) ∂           ∂                  λ(t, \n",
       "⎢-⎜r⋅ℯ       ⋅⎜──(λ(t, r))⎟  - r⋅ℯ       ⋅──(λ(t, r))⋅──(ν(t, r)) + 2⋅r⋅ℯ     \n",
       "⎢ ⎜           ⎝∂t         ⎠               ∂t          ∂t                      \n",
       "⎢ ⎝                                                                           \n",
       "⎢─────────────────────────────────────────────────────────────────────────────\n",
       "⎢                                                                             \n",
       "⎢                                                                             \n",
       "⎢                                                                             \n",
       "⎢                                                                             \n",
       "⎢                                                                             \n",
       "⎢                                                                             \n",
       "⎢                                                                             \n",
       "⎢                                                                             \n",
       "⎢                                                                             \n",
       "⎢                                                                             \n",
       "⎢                                                                             \n",
       "⎢                                                                             \n",
       "⎢                                                                             \n",
       "⎢                                                                             \n",
       "⎢                                                                             \n",
       "⎢                                                                             \n",
       "⎢                                                                             \n",
       "⎢                                                                             \n",
       "⎢                                                                             \n",
       "⎢                                                                             \n",
       "⎣                                                                             \n",
       "\n",
       "     2                                                                        \n",
       "r)  ∂                ν(t, r) ∂           ∂                ν(t, r) ⎛∂          \n",
       "  ⋅───(λ(t, r)) + r⋅ℯ       ⋅──(λ(t, r))⋅──(ν(t, r)) - r⋅ℯ       ⋅⎜──(ν(t, r))\n",
       "     2                       ∂r          ∂r                       ⎝∂r         \n",
       "   ∂t                                                                         \n",
       "──────────────────────────────────────────────────────────────────────────────\n",
       "                                4⋅r                                           \n",
       "                                                                              \n",
       "                                                                              \n",
       "                                                                              \n",
       "                            ∂                                                 \n",
       "                            ──(λ(t, r))                                       \n",
       "                            ∂t                                                \n",
       "                            ───────────                                       \n",
       "                                 r                                            \n",
       "                                                                              \n",
       "                                                                              \n",
       "                                                                              \n",
       "                                                                              \n",
       "                                 0                                            \n",
       "                                                                              \n",
       "                                                                              \n",
       "                                                                              \n",
       "                                                                              \n",
       "                                                                              \n",
       "                                 0                                            \n",
       "                                                                              \n",
       "\n",
       " 2                  2                                  ⎞                      \n",
       "⎞         ν(t, r)  ∂                ν(t, r) ∂          ⎟  -λ(t, r)            \n",
       "⎟  - 2⋅r⋅ℯ       ⋅───(ν(t, r)) - 4⋅ℯ       ⋅──(ν(t, r))⎟⋅ℯ                    \n",
       "⎠                   2                       ∂r         ⎟                      \n",
       "                  ∂r                                   ⎠                      \n",
       "───────────────────────────────────────────────────────────────────           \n",
       "                                                                              \n",
       "                                                                              \n",
       "                                                                     ⎛        \n",
       "                                                                     ⎜   λ(t, \n",
       "                                                                     ⎜r⋅ℯ     \n",
       "                                                                     ⎜        \n",
       "                                                                     ⎝        \n",
       "                                                                     ─────────\n",
       "                                                                              \n",
       "                                                                              \n",
       "                                                                              \n",
       "                                                                              \n",
       "                                                                              \n",
       "                                                                              \n",
       "                                                                              \n",
       "                                                                              \n",
       "                                                                              \n",
       "                                                                              \n",
       "                                                                              \n",
       "                                                                              \n",
       "                                                                              \n",
       "\n",
       "                                                                              \n",
       "                                                                              \n",
       "                                                                              \n",
       "                                                                              \n",
       "                                                                              \n",
       "                                                                              \n",
       "                                                                              \n",
       "                                                                              \n",
       "                2                                                       2     \n",
       "r) ⎛∂          ⎞       λ(t, r) ∂           ∂                  λ(t, r)  ∂      \n",
       "  ⋅⎜──(λ(t, r))⎟  - r⋅ℯ       ⋅──(λ(t, r))⋅──(ν(t, r)) + 2⋅r⋅ℯ       ⋅───(λ(t,\n",
       "   ⎝∂t         ⎠               ∂t          ∂t                           2     \n",
       "                                                                      ∂t      \n",
       "──────────────────────────────────────────────────────────────────────────────\n",
       "                                                                              \n",
       "                                                                              \n",
       "                                                                              \n",
       "                                                                              \n",
       "                                                                              \n",
       "                                                                              \n",
       "                                                                              \n",
       "                                                                              \n",
       "                                                                              \n",
       "                                                                              \n",
       "                                                                              \n",
       "                                                                              \n",
       "                                                                              \n",
       "\n",
       "                                                                              \n",
       "                                                                              \n",
       "                 ∂                                                            \n",
       "                 ──(λ(t, r))                                                  \n",
       "                 ∂t                                                           \n",
       "                 ───────────                                                  \n",
       "                      r                                                       \n",
       "                                                                              \n",
       "                                                                    2         \n",
       "          ν(t, r) ∂           ∂                ν(t, r) ⎛∂          ⎞         ν\n",
       " r)) + r⋅ℯ       ⋅──(λ(t, r))⋅──(ν(t, r)) - r⋅ℯ       ⋅⎜──(ν(t, r))⎟  - 2⋅r⋅ℯ \n",
       "                  ∂r          ∂r                       ⎝∂r         ⎠          \n",
       "                                                                              \n",
       "──────────────────────────────────────────────────────────────────────────────\n",
       "                     4⋅r                                                      \n",
       "                                                                              \n",
       "                                                                              \n",
       "                                                                              \n",
       "                                                                              \n",
       "                      0                                                       \n",
       "                                                                              \n",
       "                                                                              \n",
       "                                                                              \n",
       "                                                                              \n",
       "                                                                              \n",
       "                      0                                                       \n",
       "                                                                              \n",
       "\n",
       "                                                                              \n",
       "                                                                              \n",
       "                                                                              \n",
       "                                                                              \n",
       "                                                                              \n",
       "                                                                              \n",
       "                                                                              \n",
       "                                                                              \n",
       "         2                                  ⎞                                 \n",
       "(t, r)  ∂                ν(t, r) ∂          ⎟  -ν(t, r)                       \n",
       "      ⋅───(ν(t, r)) + 4⋅ℯ       ⋅──(λ(t, r))⎟⋅ℯ                               \n",
       "         2                       ∂r         ⎟                                 \n",
       "       ∂r                                   ⎠                                 \n",
       "───────────────────────────────────────────────────────                       \n",
       "                                                                              \n",
       "                                                                              \n",
       "                                                         ⎛  ∂               ∂ \n",
       "                                                         ⎜r⋅──(λ(t, r)) - r⋅──\n",
       "                                                         ⎝  ∂r              ∂r\n",
       "                                                         ─────────────────────\n",
       "                                                                              \n",
       "                                                                              \n",
       "                                                                              \n",
       "                                                                              \n",
       "                                                                              \n",
       "                                                                              \n",
       "                                                                              \n",
       "\n",
       "                                                                              \n",
       "                                                                              \n",
       "                                                                              \n",
       "                                                                              \n",
       "                                                                              \n",
       "       0                                                               0      \n",
       "                                                                              \n",
       "                                                                              \n",
       "                                                                              \n",
       "                                                                              \n",
       "                                                                              \n",
       "                                                                              \n",
       "                                                                              \n",
       "       0                                                               0      \n",
       "                                                                              \n",
       "                                                                              \n",
       "               λ(t, r)    ⎞  -λ(t, r)                                         \n",
       "(ν(t, r)) + 2⋅ℯ        - 2⎟⋅ℯ                                                 \n",
       "                          ⎠                                                   \n",
       "─────────────────────────────────────                                  0      \n",
       "       2                                                                      \n",
       "                                                                              \n",
       "                                       ⎛  ∂               ∂                λ(t\n",
       "                                       ⎜r⋅──(λ(t, r)) - r⋅──(ν(t, r)) + 2⋅ℯ   \n",
       "                                       ⎝  ∂r              ∂r                  \n",
       "       0                               ───────────────────────────────────────\n",
       "                                                                       2      \n",
       "\n",
       "                           ⎤\n",
       "                           ⎥\n",
       "                           ⎥\n",
       "                           ⎥\n",
       "                           ⎥\n",
       "                           ⎥\n",
       "                           ⎥\n",
       "                           ⎥\n",
       "                           ⎥\n",
       "                           ⎥\n",
       "                           ⎥\n",
       "                           ⎥\n",
       "                           ⎥\n",
       "                           ⎥\n",
       "                           ⎥\n",
       "                           ⎥\n",
       "                           ⎥\n",
       "                           ⎥\n",
       "                           ⎥\n",
       "                           ⎥\n",
       "                           ⎥\n",
       "                           ⎥\n",
       ", r)    ⎞  -λ(t, r)    2   ⎥\n",
       "     - 2⎟⋅ℯ        ⋅sin (θ)⎥\n",
       "        ⎠                  ⎥\n",
       "───────────────────────────⎥\n",
       "                           ⎦"
      ]
     },
     "metadata": {},
     "output_type": "display_data"
    },
    {
     "data": {
      "image/png": "[encoded data removed]",
      "text/latex": [
       "$\\displaystyle \\left[\\begin{matrix}\\text{NaN} & \\text{NaN} & \\text{NaN} & \\text{NaN}\\\\\\text{NaN} & \\text{NaN} & \\text{NaN} & \\text{NaN}\\\\\\text{NaN} & \\text{NaN} & \\text{NaN} & \\text{NaN}\\\\\\text{NaN} & \\text{NaN} & \\text{NaN} & \\text{NaN}\\end{matrix}\\right]$"
      ],
      "text/plain": [
       "⎡nan  nan  nan  nan⎤\n",
       "⎢                  ⎥\n",
       "⎢nan  nan  nan  nan⎥\n",
       "⎢                  ⎥\n",
       "⎢nan  nan  nan  nan⎥\n",
       "⎢                  ⎥\n",
       "⎣nan  nan  nan  nan⎦"
      ]
     },
     "metadata": {},
     "output_type": "display_data"
    }
   ],
   "source": [
    "R = pt.ricci()\n",
    "R.display('_,_')   #This displays the expected result\n",
    "R.display('^,_')   #This displays NANs\n",
    "R.display('^,^')   #This displays NANs"
   ]
  },
  {
   "cell_type": "code",
   "execution_count": null,
   "id": "c4d5c264-68a0-4d0a-bf41-3ec141c250dc",
   "metadata": {},
   "outputs": [],
   "source": []
  }
 ],
 "metadata": {
  "kernelspec": {
   "display_name": "Python 3 (ipykernel)",
   "language": "python",
   "name": "python3"
  },
  "language_info": {
   "codemirror_mode": {
    "name": "ipython",
    "version": 3
   },
   "file_extension": ".py",
   "mimetype": "text/x-python",
   "name": "python",
   "nbconvert_exporter": "python",
   "pygments_lexer": "ipython3",
   "version": "3.12.0"
  }
 },
 "nbformat": 4,
 "nbformat_minor": 5
}
