{
 "cells": [
  {
   "cell_type": "code",
   "execution_count": 1,
   "id": "32cbd103-ba7a-459a-9079-5e8a61409674",
   "metadata": {},
   "outputs": [],
   "source": [
    "import pytearcat as pt"
   ]
  },
  {
   "cell_type": "code",
   "execution_count": 2,
   "id": "bb7b3f1b-db49-4a6d-af2b-749149cc5597",
   "metadata": {},
   "outputs": [
    {
     "name": "stdout",
     "output_type": "stream",
     "text": [
      "Remember that the time coordinate must be the first coordinate.\n",
      "\n",
      "Dimension = 4\n",
      "Coordinates = t,r,theta,phi\n",
      "Metric defined successfully: \n",
      "\n"
     ]
    },
    {
     "data": {
      "text/latex": [
       "$\\displaystyle ds^2 = e^{\\nu{\\left(t,r \\right)}} \\cdot dt^2- e^{\\lambda_{}{\\left(t,r \\right)}} \\cdot dr^2- r^{2} \\cdot d\\theta^2- r^{2} \\sin^{2}{\\left(\\theta \\right)} \\cdot d\\phi^2$"
      ],
      "text/plain": [
       "<IPython.core.display.Math object>"
      ]
     },
     "metadata": {},
     "output_type": "display_data"
    },
    {
     "data": {
      "text/latex": [
       "$\\displaystyle \\left[\\begin{matrix}e^{\\nu{\\left(t,r \\right)}} & 0 & 0 & 0\\\\0 & - e^{\\lambda_{}{\\left(t,r \\right)}} & 0 & 0\\\\0 & 0 & - r^{2} & 0\\\\0 & 0 & 0 & - r^{2} \\sin^{2}{\\left(\\theta \\right)}\\end{matrix}\\right]$"
      ],
      "text/plain": [
       "Matrix([\n",
       "[exp(nu(t, r)),                   0,     0,                   0],\n",
       "[            0, -exp(lambda_(t, r)),     0,                   0],\n",
       "[            0,                   0, -r**2,                   0],\n",
       "[            0,                   0,     0, -r**2*sin(theta)**2]])"
      ]
     },
     "metadata": {},
     "output_type": "display_data"
    }
   ],
   "source": [
    "    t,r,theta,phi = pt.coords('t,r,theta,phi')\n",
    "    nu = pt.fun('nu','t,r')\n",
    "    lambda_ = pt.fun('lambda_','t,r')\n",
    "    ds = 'ds2 = exp(nu)*dt**2 - exp(lambda_)*dr**2 - r**2*(dtheta**2 + sin(theta)**2 *dphi**2)'\n",
    "    g = pt.metric(ds)"
   ]
  },
  {
   "cell_type": "code",
   "execution_count": 3,
   "id": "28bf8dec-ff3b-468a-ba3a-e893ee82e54a",
   "metadata": {},
   "outputs": [
    {
     "data": {
      "text/latex": [
       "Christoffel $\\Gamma_{\\alpha \\beta \\gamma}$ and $\\Gamma^{\\alpha}_{\\beta \\gamma}$"
      ],
      "text/plain": [
       "<IPython.core.display.Latex object>"
      ]
     },
     "metadata": {},
     "output_type": "display_data"
    },
    {
     "data": {
      "application/vnd.jupyter.widget-view+json": {
       "model_id": "2e9ef884814844e2bd016f4510114806",
       "version_major": 2,
       "version_minor": 0
      },
      "text/plain": [
       "  0%|          | 0/64 [00:00<?, ?it/s]"
      ]
     },
     "metadata": {},
     "output_type": "display_data"
    },
    {
     "data": {
      "text/latex": [
       "$\\displaystyle {\\Gamma}{}^{0}\\,{}_{0}\\,{}_{0}\\, = \\frac{\\frac{\\partial}{\\partial t} \\nu{\\left(t,r \\right)}}{2}$"
      ],
      "text/plain": [
       "<IPython.core.display.Math object>"
      ]
     },
     "metadata": {},
     "output_type": "display_data"
    },
    {
     "data": {
      "text/latex": [
       "$\\displaystyle {\\Gamma}{}^{0}\\,{}_{0}\\,{}_{1}\\, = \\frac{\\frac{\\partial}{\\partial r} \\nu{\\left(t,r \\right)}}{2}$"
      ],
      "text/plain": [
       "<IPython.core.display.Math object>"
      ]
     },
     "metadata": {},
     "output_type": "display_data"
    },
    {
     "data": {
      "text/latex": [
       "$\\displaystyle {\\Gamma}{}^{0}\\,{}_{1}\\,{}_{0}\\, = \\frac{\\frac{\\partial}{\\partial r} \\nu{\\left(t,r \\right)}}{2}$"
      ],
      "text/plain": [
       "<IPython.core.display.Math object>"
      ]
     },
     "metadata": {},
     "output_type": "display_data"
    },
    {
     "data": {
      "text/latex": [
       "$\\displaystyle {\\Gamma}{}^{0}\\,{}_{1}\\,{}_{1}\\, = \\frac{e^{\\lambda_{}{\\left(t,r \\right)}} e^{- \\nu{\\left(t,r \\right)}} \\frac{\\partial}{\\partial t} \\lambda_{}{\\left(t,r \\right)}}{2}$"
      ],
      "text/plain": [
       "<IPython.core.display.Math object>"
      ]
     },
     "metadata": {},
     "output_type": "display_data"
    },
    {
     "data": {
      "text/latex": [
       "$\\displaystyle {\\Gamma}{}^{1}\\,{}_{0}\\,{}_{0}\\, = \\frac{e^{- \\lambda_{}{\\left(t,r \\right)}} e^{\\nu{\\left(t,r \\right)}} \\frac{\\partial}{\\partial r} \\nu{\\left(t,r \\right)}}{2}$"
      ],
      "text/plain": [
       "<IPython.core.display.Math object>"
      ]
     },
     "metadata": {},
     "output_type": "display_data"
    },
    {
     "data": {
      "text/latex": [
       "$\\displaystyle {\\Gamma}{}^{1}\\,{}_{0}\\,{}_{1}\\, = \\frac{\\frac{\\partial}{\\partial t} \\lambda_{}{\\left(t,r \\right)}}{2}$"
      ],
      "text/plain": [
       "<IPython.core.display.Math object>"
      ]
     },
     "metadata": {},
     "output_type": "display_data"
    },
    {
     "data": {
      "text/latex": [
       "$\\displaystyle {\\Gamma}{}^{1}\\,{}_{1}\\,{}_{0}\\, = \\frac{\\frac{\\partial}{\\partial t} \\lambda_{}{\\left(t,r \\right)}}{2}$"
      ],
      "text/plain": [
       "<IPython.core.display.Math object>"
      ]
     },
     "metadata": {},
     "output_type": "display_data"
    },
    {
     "data": {
      "text/latex": [
       "$\\displaystyle {\\Gamma}{}^{1}\\,{}_{1}\\,{}_{1}\\, = \\frac{\\frac{\\partial}{\\partial r} \\lambda_{}{\\left(t,r \\right)}}{2}$"
      ],
      "text/plain": [
       "<IPython.core.display.Math object>"
      ]
     },
     "metadata": {},
     "output_type": "display_data"
    },
    {
     "data": {
      "text/latex": [
       "$\\displaystyle {\\Gamma}{}^{1}\\,{}_{2}\\,{}_{2}\\, = - r e^{- \\lambda_{}{\\left(t,r \\right)}}$"
      ],
      "text/plain": [
       "<IPython.core.display.Math object>"
      ]
     },
     "metadata": {},
     "output_type": "display_data"
    },
    {
     "data": {
      "text/latex": [
       "$\\displaystyle {\\Gamma}{}^{1}\\,{}_{3}\\,{}_{3}\\, = - r e^{- \\lambda_{}{\\left(t,r \\right)}} \\sin^{2}{\\left(\\theta \\right)}$"
      ],
      "text/plain": [
       "<IPython.core.display.Math object>"
      ]
     },
     "metadata": {},
     "output_type": "display_data"
    },
    {
     "data": {
      "text/latex": [
       "$\\displaystyle {\\Gamma}{}^{2}\\,{}_{1}\\,{}_{2}\\, = \\frac{1}{r}$"
      ],
      "text/plain": [
       "<IPython.core.display.Math object>"
      ]
     },
     "metadata": {},
     "output_type": "display_data"
    },
    {
     "data": {
      "text/latex": [
       "$\\displaystyle {\\Gamma}{}^{2}\\,{}_{2}\\,{}_{1}\\, = \\frac{1}{r}$"
      ],
      "text/plain": [
       "<IPython.core.display.Math object>"
      ]
     },
     "metadata": {},
     "output_type": "display_data"
    },
    {
     "data": {
      "text/latex": [
       "$\\displaystyle {\\Gamma}{}^{2}\\,{}_{3}\\,{}_{3}\\, = - \\sin{\\left(\\theta \\right)} \\cos{\\left(\\theta \\right)}$"
      ],
      "text/plain": [
       "<IPython.core.display.Math object>"
      ]
     },
     "metadata": {},
     "output_type": "display_data"
    },
    {
     "data": {
      "text/latex": [
       "$\\displaystyle {\\Gamma}{}^{3}\\,{}_{1}\\,{}_{3}\\, = \\frac{1}{r}$"
      ],
      "text/plain": [
       "<IPython.core.display.Math object>"
      ]
     },
     "metadata": {},
     "output_type": "display_data"
    },
    {
     "data": {
      "text/latex": [
       "$\\displaystyle {\\Gamma}{}^{3}\\,{}_{2}\\,{}_{3}\\, = \\frac{\\cos{\\left(\\theta \\right)}}{\\sin{\\left(\\theta \\right)}}$"
      ],
      "text/plain": [
       "<IPython.core.display.Math object>"
      ]
     },
     "metadata": {},
     "output_type": "display_data"
    },
    {
     "data": {
      "text/latex": [
       "$\\displaystyle {\\Gamma}{}^{3}\\,{}_{3}\\,{}_{1}\\, = \\frac{1}{r}$"
      ],
      "text/plain": [
       "<IPython.core.display.Math object>"
      ]
     },
     "metadata": {},
     "output_type": "display_data"
    },
    {
     "data": {
      "text/latex": [
       "$\\displaystyle {\\Gamma}{}^{3}\\,{}_{3}\\,{}_{2}\\, = \\frac{\\cos{\\left(\\theta \\right)}}{\\sin{\\left(\\theta \\right)}}$"
      ],
      "text/plain": [
       "<IPython.core.display.Math object>"
      ]
     },
     "metadata": {},
     "output_type": "display_data"
    }
   ],
   "source": [
    "chr=pt.christoffel()\n",
    "chr.display('^,_,_')"
   ]
  },
  {
   "cell_type": "code",
   "execution_count": 4,
   "id": "e051db18-11df-4f95-9595-d1d9116d9737",
   "metadata": {},
   "outputs": [
    {
     "data": {
      "text/latex": [
       "Riemann Tensor $R^{\\alpha}_{\\beta \\gamma \\delta}$"
      ],
      "text/plain": [
       "<IPython.core.display.Latex object>"
      ]
     },
     "metadata": {},
     "output_type": "display_data"
    },
    {
     "data": {
      "application/vnd.jupyter.widget-view+json": {
       "model_id": "29064164adaf40ffb1db25cba4e0db85",
       "version_major": 2,
       "version_minor": 0
      },
      "text/plain": [
       "  0%|          | 0/256 [00:00<?, ?it/s]"
      ]
     },
     "metadata": {},
     "output_type": "display_data"
    },
    {
     "data": {
      "text/latex": [
       "$\\displaystyle {R}{}^{0}\\,{}_{1}\\,{}_{0}\\,{}_{1}\\, = \\frac{\\left(e^{\\lambda_{}{\\left(t,r \\right)}} \\left(\\frac{\\partial}{\\partial t} \\lambda_{}{\\left(t,r \\right)}\\right)^{2} - e^{\\lambda_{}{\\left(t,r \\right)}} \\frac{\\partial}{\\partial t} \\lambda_{}{\\left(t,r \\right)} \\frac{\\partial}{\\partial t} \\nu{\\left(t,r \\right)} + 2 e^{\\lambda_{}{\\left(t,r \\right)}} \\frac{\\partial^{2}}{\\partial t^{2}} \\lambda_{}{\\left(t,r \\right)} + e^{\\nu{\\left(t,r \\right)}} \\frac{\\partial}{\\partial r} \\lambda_{}{\\left(t,r \\right)} \\frac{\\partial}{\\partial r} \\nu{\\left(t,r \\right)} - e^{\\nu{\\left(t,r \\right)}} \\left(\\frac{\\partial}{\\partial r} \\nu{\\left(t,r \\right)}\\right)^{2} - 2 e^{\\nu{\\left(t,r \\right)}} \\frac{\\partial^{2}}{\\partial r^{2}} \\nu{\\left(t,r \\right)}\\right) e^{- \\nu{\\left(t,r \\right)}}}{4}$"
      ],
      "text/plain": [
       "<IPython.core.display.Math object>"
      ]
     },
     "metadata": {},
     "output_type": "display_data"
    },
    {
     "data": {
      "text/latex": [
       "$\\displaystyle {R}{}^{0}\\,{}_{1}\\,{}_{1}\\,{}_{0}\\, = - \\frac{\\left(e^{\\lambda_{}{\\left(t,r \\right)}} \\left(\\frac{\\partial}{\\partial t} \\lambda_{}{\\left(t,r \\right)}\\right)^{2} - e^{\\lambda_{}{\\left(t,r \\right)}} \\frac{\\partial}{\\partial t} \\lambda_{}{\\left(t,r \\right)} \\frac{\\partial}{\\partial t} \\nu{\\left(t,r \\right)} + 2 e^{\\lambda_{}{\\left(t,r \\right)}} \\frac{\\partial^{2}}{\\partial t^{2}} \\lambda_{}{\\left(t,r \\right)} + e^{\\nu{\\left(t,r \\right)}} \\frac{\\partial}{\\partial r} \\lambda_{}{\\left(t,r \\right)} \\frac{\\partial}{\\partial r} \\nu{\\left(t,r \\right)} - e^{\\nu{\\left(t,r \\right)}} \\left(\\frac{\\partial}{\\partial r} \\nu{\\left(t,r \\right)}\\right)^{2} - 2 e^{\\nu{\\left(t,r \\right)}} \\frac{\\partial^{2}}{\\partial r^{2}} \\nu{\\left(t,r \\right)}\\right) e^{- \\nu{\\left(t,r \\right)}}}{4}$"
      ],
      "text/plain": [
       "<IPython.core.display.Math object>"
      ]
     },
     "metadata": {},
     "output_type": "display_data"
    },
    {
     "data": {
      "text/latex": [
       "$\\displaystyle {R}{}^{0}\\,{}_{2}\\,{}_{0}\\,{}_{2}\\, = - \\frac{r e^{- \\lambda_{}{\\left(t,r \\right)}} \\frac{\\partial}{\\partial r} \\nu{\\left(t,r \\right)}}{2}$"
      ],
      "text/plain": [
       "<IPython.core.display.Math object>"
      ]
     },
     "metadata": {},
     "output_type": "display_data"
    },
    {
     "data": {
      "text/latex": [
       "$\\displaystyle {R}{}^{0}\\,{}_{2}\\,{}_{1}\\,{}_{2}\\, = - \\frac{r e^{- \\nu{\\left(t,r \\right)}} \\frac{\\partial}{\\partial t} \\lambda_{}{\\left(t,r \\right)}}{2}$"
      ],
      "text/plain": [
       "<IPython.core.display.Math object>"
      ]
     },
     "metadata": {},
     "output_type": "display_data"
    },
    {
     "data": {
      "text/latex": [
       "$\\displaystyle {R}{}^{0}\\,{}_{2}\\,{}_{2}\\,{}_{0}\\, = \\frac{r e^{- \\lambda_{}{\\left(t,r \\right)}} \\frac{\\partial}{\\partial r} \\nu{\\left(t,r \\right)}}{2}$"
      ],
      "text/plain": [
       "<IPython.core.display.Math object>"
      ]
     },
     "metadata": {},
     "output_type": "display_data"
    },
    {
     "data": {
      "text/latex": [
       "$\\displaystyle {R}{}^{0}\\,{}_{2}\\,{}_{2}\\,{}_{1}\\, = \\frac{r e^{- \\nu{\\left(t,r \\right)}} \\frac{\\partial}{\\partial t} \\lambda_{}{\\left(t,r \\right)}}{2}$"
      ],
      "text/plain": [
       "<IPython.core.display.Math object>"
      ]
     },
     "metadata": {},
     "output_type": "display_data"
    },
    {
     "data": {
      "text/latex": [
       "$\\displaystyle {R}{}^{0}\\,{}_{3}\\,{}_{0}\\,{}_{3}\\, = - \\frac{r e^{- \\lambda_{}{\\left(t,r \\right)}} \\sin^{2}{\\left(\\theta \\right)} \\frac{\\partial}{\\partial r} \\nu{\\left(t,r \\right)}}{2}$"
      ],
      "text/plain": [
       "<IPython.core.display.Math object>"
      ]
     },
     "metadata": {},
     "output_type": "display_data"
    },
    {
     "data": {
      "text/latex": [
       "$\\displaystyle {R}{}^{0}\\,{}_{3}\\,{}_{1}\\,{}_{3}\\, = - \\frac{r e^{- \\nu{\\left(t,r \\right)}} \\sin^{2}{\\left(\\theta \\right)} \\frac{\\partial}{\\partial t} \\lambda_{}{\\left(t,r \\right)}}{2}$"
      ],
      "text/plain": [
       "<IPython.core.display.Math object>"
      ]
     },
     "metadata": {},
     "output_type": "display_data"
    },
    {
     "data": {
      "text/latex": [
       "$\\displaystyle {R}{}^{0}\\,{}_{3}\\,{}_{3}\\,{}_{0}\\, = \\frac{r e^{- \\lambda_{}{\\left(t,r \\right)}} \\sin^{2}{\\left(\\theta \\right)} \\frac{\\partial}{\\partial r} \\nu{\\left(t,r \\right)}}{2}$"
      ],
      "text/plain": [
       "<IPython.core.display.Math object>"
      ]
     },
     "metadata": {},
     "output_type": "display_data"
    },
    {
     "data": {
      "text/latex": [
       "$\\displaystyle {R}{}^{0}\\,{}_{3}\\,{}_{3}\\,{}_{1}\\, = \\frac{r e^{- \\nu{\\left(t,r \\right)}} \\sin^{2}{\\left(\\theta \\right)} \\frac{\\partial}{\\partial t} \\lambda_{}{\\left(t,r \\right)}}{2}$"
      ],
      "text/plain": [
       "<IPython.core.display.Math object>"
      ]
     },
     "metadata": {},
     "output_type": "display_data"
    },
    {
     "data": {
      "text/latex": [
       "$\\displaystyle {R}{}^{1}\\,{}_{0}\\,{}_{0}\\,{}_{1}\\, = \\frac{\\left(e^{\\lambda_{}{\\left(t,r \\right)}} \\left(\\frac{\\partial}{\\partial t} \\lambda_{}{\\left(t,r \\right)}\\right)^{2} - e^{\\lambda_{}{\\left(t,r \\right)}} \\frac{\\partial}{\\partial t} \\lambda_{}{\\left(t,r \\right)} \\frac{\\partial}{\\partial t} \\nu{\\left(t,r \\right)} + 2 e^{\\lambda_{}{\\left(t,r \\right)}} \\frac{\\partial^{2}}{\\partial t^{2}} \\lambda_{}{\\left(t,r \\right)} + e^{\\nu{\\left(t,r \\right)}} \\frac{\\partial}{\\partial r} \\lambda_{}{\\left(t,r \\right)} \\frac{\\partial}{\\partial r} \\nu{\\left(t,r \\right)} - e^{\\nu{\\left(t,r \\right)}} \\left(\\frac{\\partial}{\\partial r} \\nu{\\left(t,r \\right)}\\right)^{2} - 2 e^{\\nu{\\left(t,r \\right)}} \\frac{\\partial^{2}}{\\partial r^{2}} \\nu{\\left(t,r \\right)}\\right) e^{- \\lambda_{}{\\left(t,r \\right)}}}{4}$"
      ],
      "text/plain": [
       "<IPython.core.display.Math object>"
      ]
     },
     "metadata": {},
     "output_type": "display_data"
    },
    {
     "data": {
      "text/latex": [
       "$\\displaystyle {R}{}^{1}\\,{}_{0}\\,{}_{1}\\,{}_{0}\\, = - \\frac{\\left(e^{\\lambda_{}{\\left(t,r \\right)}} \\left(\\frac{\\partial}{\\partial t} \\lambda_{}{\\left(t,r \\right)}\\right)^{2} - e^{\\lambda_{}{\\left(t,r \\right)}} \\frac{\\partial}{\\partial t} \\lambda_{}{\\left(t,r \\right)} \\frac{\\partial}{\\partial t} \\nu{\\left(t,r \\right)} + 2 e^{\\lambda_{}{\\left(t,r \\right)}} \\frac{\\partial^{2}}{\\partial t^{2}} \\lambda_{}{\\left(t,r \\right)} + e^{\\nu{\\left(t,r \\right)}} \\frac{\\partial}{\\partial r} \\lambda_{}{\\left(t,r \\right)} \\frac{\\partial}{\\partial r} \\nu{\\left(t,r \\right)} - e^{\\nu{\\left(t,r \\right)}} \\left(\\frac{\\partial}{\\partial r} \\nu{\\left(t,r \\right)}\\right)^{2} - 2 e^{\\nu{\\left(t,r \\right)}} \\frac{\\partial^{2}}{\\partial r^{2}} \\nu{\\left(t,r \\right)}\\right) e^{- \\lambda_{}{\\left(t,r \\right)}}}{4}$"
      ],
      "text/plain": [
       "<IPython.core.display.Math object>"
      ]
     },
     "metadata": {},
     "output_type": "display_data"
    },
    {
     "data": {
      "text/latex": [
       "$\\displaystyle {R}{}^{1}\\,{}_{2}\\,{}_{0}\\,{}_{2}\\, = \\frac{r e^{- \\lambda_{}{\\left(t,r \\right)}} \\frac{\\partial}{\\partial t} \\lambda_{}{\\left(t,r \\right)}}{2}$"
      ],
      "text/plain": [
       "<IPython.core.display.Math object>"
      ]
     },
     "metadata": {},
     "output_type": "display_data"
    },
    {
     "data": {
      "text/latex": [
       "$\\displaystyle {R}{}^{1}\\,{}_{2}\\,{}_{1}\\,{}_{2}\\, = \\frac{r e^{- \\lambda_{}{\\left(t,r \\right)}} \\frac{\\partial}{\\partial r} \\lambda_{}{\\left(t,r \\right)}}{2}$"
      ],
      "text/plain": [
       "<IPython.core.display.Math object>"
      ]
     },
     "metadata": {},
     "output_type": "display_data"
    },
    {
     "data": {
      "text/latex": [
       "$\\displaystyle {R}{}^{1}\\,{}_{2}\\,{}_{2}\\,{}_{0}\\, = - \\frac{r e^{- \\lambda_{}{\\left(t,r \\right)}} \\frac{\\partial}{\\partial t} \\lambda_{}{\\left(t,r \\right)}}{2}$"
      ],
      "text/plain": [
       "<IPython.core.display.Math object>"
      ]
     },
     "metadata": {},
     "output_type": "display_data"
    },
    {
     "data": {
      "text/latex": [
       "$\\displaystyle {R}{}^{1}\\,{}_{2}\\,{}_{2}\\,{}_{1}\\, = - \\frac{r e^{- \\lambda_{}{\\left(t,r \\right)}} \\frac{\\partial}{\\partial r} \\lambda_{}{\\left(t,r \\right)}}{2}$"
      ],
      "text/plain": [
       "<IPython.core.display.Math object>"
      ]
     },
     "metadata": {},
     "output_type": "display_data"
    },
    {
     "data": {
      "text/latex": [
       "$\\displaystyle {R}{}^{1}\\,{}_{3}\\,{}_{0}\\,{}_{3}\\, = \\frac{r e^{- \\lambda_{}{\\left(t,r \\right)}} \\sin^{2}{\\left(\\theta \\right)} \\frac{\\partial}{\\partial t} \\lambda_{}{\\left(t,r \\right)}}{2}$"
      ],
      "text/plain": [
       "<IPython.core.display.Math object>"
      ]
     },
     "metadata": {},
     "output_type": "display_data"
    },
    {
     "data": {
      "text/latex": [
       "$\\displaystyle {R}{}^{1}\\,{}_{3}\\,{}_{1}\\,{}_{3}\\, = \\frac{r e^{- \\lambda_{}{\\left(t,r \\right)}} \\sin^{2}{\\left(\\theta \\right)} \\frac{\\partial}{\\partial r} \\lambda_{}{\\left(t,r \\right)}}{2}$"
      ],
      "text/plain": [
       "<IPython.core.display.Math object>"
      ]
     },
     "metadata": {},
     "output_type": "display_data"
    },
    {
     "data": {
      "text/latex": [
       "$\\displaystyle {R}{}^{1}\\,{}_{3}\\,{}_{3}\\,{}_{0}\\, = - \\frac{r e^{- \\lambda_{}{\\left(t,r \\right)}} \\sin^{2}{\\left(\\theta \\right)} \\frac{\\partial}{\\partial t} \\lambda_{}{\\left(t,r \\right)}}{2}$"
      ],
      "text/plain": [
       "<IPython.core.display.Math object>"
      ]
     },
     "metadata": {},
     "output_type": "display_data"
    },
    {
     "data": {
      "text/latex": [
       "$\\displaystyle {R}{}^{1}\\,{}_{3}\\,{}_{3}\\,{}_{1}\\, = - \\frac{r e^{- \\lambda_{}{\\left(t,r \\right)}} \\sin^{2}{\\left(\\theta \\right)} \\frac{\\partial}{\\partial r} \\lambda_{}{\\left(t,r \\right)}}{2}$"
      ],
      "text/plain": [
       "<IPython.core.display.Math object>"
      ]
     },
     "metadata": {},
     "output_type": "display_data"
    },
    {
     "data": {
      "text/latex": [
       "$\\displaystyle {R}{}^{2}\\,{}_{0}\\,{}_{0}\\,{}_{2}\\, = - \\frac{e^{- \\lambda_{}{\\left(t,r \\right)}} e^{\\nu{\\left(t,r \\right)}} \\frac{\\partial}{\\partial r} \\nu{\\left(t,r \\right)}}{2 r}$"
      ],
      "text/plain": [
       "<IPython.core.display.Math object>"
      ]
     },
     "metadata": {},
     "output_type": "display_data"
    },
    {
     "data": {
      "text/latex": [
       "$\\displaystyle {R}{}^{2}\\,{}_{0}\\,{}_{1}\\,{}_{2}\\, = - \\frac{\\frac{\\partial}{\\partial t} \\lambda_{}{\\left(t,r \\right)}}{2 r}$"
      ],
      "text/plain": [
       "<IPython.core.display.Math object>"
      ]
     },
     "metadata": {},
     "output_type": "display_data"
    },
    {
     "data": {
      "text/latex": [
       "$\\displaystyle {R}{}^{2}\\,{}_{0}\\,{}_{2}\\,{}_{0}\\, = \\frac{e^{- \\lambda_{}{\\left(t,r \\right)}} e^{\\nu{\\left(t,r \\right)}} \\frac{\\partial}{\\partial r} \\nu{\\left(t,r \\right)}}{2 r}$"
      ],
      "text/plain": [
       "<IPython.core.display.Math object>"
      ]
     },
     "metadata": {},
     "output_type": "display_data"
    },
    {
     "data": {
      "text/latex": [
       "$\\displaystyle {R}{}^{2}\\,{}_{0}\\,{}_{2}\\,{}_{1}\\, = \\frac{\\frac{\\partial}{\\partial t} \\lambda_{}{\\left(t,r \\right)}}{2 r}$"
      ],
      "text/plain": [
       "<IPython.core.display.Math object>"
      ]
     },
     "metadata": {},
     "output_type": "display_data"
    },
    {
     "data": {
      "text/latex": [
       "$\\displaystyle {R}{}^{2}\\,{}_{1}\\,{}_{0}\\,{}_{2}\\, = - \\frac{\\frac{\\partial}{\\partial t} \\lambda_{}{\\left(t,r \\right)}}{2 r}$"
      ],
      "text/plain": [
       "<IPython.core.display.Math object>"
      ]
     },
     "metadata": {},
     "output_type": "display_data"
    },
    {
     "data": {
      "text/latex": [
       "$\\displaystyle {R}{}^{2}\\,{}_{1}\\,{}_{1}\\,{}_{2}\\, = - \\frac{\\frac{\\partial}{\\partial r} \\lambda_{}{\\left(t,r \\right)}}{2 r}$"
      ],
      "text/plain": [
       "<IPython.core.display.Math object>"
      ]
     },
     "metadata": {},
     "output_type": "display_data"
    },
    {
     "data": {
      "text/latex": [
       "$\\displaystyle {R}{}^{2}\\,{}_{1}\\,{}_{2}\\,{}_{0}\\, = \\frac{\\frac{\\partial}{\\partial t} \\lambda_{}{\\left(t,r \\right)}}{2 r}$"
      ],
      "text/plain": [
       "<IPython.core.display.Math object>"
      ]
     },
     "metadata": {},
     "output_type": "display_data"
    },
    {
     "data": {
      "text/latex": [
       "$\\displaystyle {R}{}^{2}\\,{}_{1}\\,{}_{2}\\,{}_{1}\\, = \\frac{\\frac{\\partial}{\\partial r} \\lambda_{}{\\left(t,r \\right)}}{2 r}$"
      ],
      "text/plain": [
       "<IPython.core.display.Math object>"
      ]
     },
     "metadata": {},
     "output_type": "display_data"
    },
    {
     "data": {
      "text/latex": [
       "$\\displaystyle {R}{}^{2}\\,{}_{3}\\,{}_{2}\\,{}_{3}\\, = \\left(e^{\\lambda_{}{\\left(t,r \\right)}} - 1\\right) e^{- \\lambda_{}{\\left(t,r \\right)}} \\sin^{2}{\\left(\\theta \\right)}$"
      ],
      "text/plain": [
       "<IPython.core.display.Math object>"
      ]
     },
     "metadata": {},
     "output_type": "display_data"
    },
    {
     "data": {
      "text/latex": [
       "$\\displaystyle {R}{}^{2}\\,{}_{3}\\,{}_{3}\\,{}_{2}\\, = - \\left(e^{\\lambda_{}{\\left(t,r \\right)}} - 1\\right) e^{- \\lambda_{}{\\left(t,r \\right)}} \\sin^{2}{\\left(\\theta \\right)}$"
      ],
      "text/plain": [
       "<IPython.core.display.Math object>"
      ]
     },
     "metadata": {},
     "output_type": "display_data"
    },
    {
     "data": {
      "text/latex": [
       "$\\displaystyle {R}{}^{3}\\,{}_{0}\\,{}_{0}\\,{}_{3}\\, = - \\frac{e^{- \\lambda_{}{\\left(t,r \\right)}} e^{\\nu{\\left(t,r \\right)}} \\frac{\\partial}{\\partial r} \\nu{\\left(t,r \\right)}}{2 r}$"
      ],
      "text/plain": [
       "<IPython.core.display.Math object>"
      ]
     },
     "metadata": {},
     "output_type": "display_data"
    },
    {
     "data": {
      "text/latex": [
       "$\\displaystyle {R}{}^{3}\\,{}_{0}\\,{}_{1}\\,{}_{3}\\, = - \\frac{\\frac{\\partial}{\\partial t} \\lambda_{}{\\left(t,r \\right)}}{2 r}$"
      ],
      "text/plain": [
       "<IPython.core.display.Math object>"
      ]
     },
     "metadata": {},
     "output_type": "display_data"
    },
    {
     "data": {
      "text/latex": [
       "$\\displaystyle {R}{}^{3}\\,{}_{0}\\,{}_{3}\\,{}_{0}\\, = \\frac{e^{- \\lambda_{}{\\left(t,r \\right)}} e^{\\nu{\\left(t,r \\right)}} \\frac{\\partial}{\\partial r} \\nu{\\left(t,r \\right)}}{2 r}$"
      ],
      "text/plain": [
       "<IPython.core.display.Math object>"
      ]
     },
     "metadata": {},
     "output_type": "display_data"
    },
    {
     "data": {
      "text/latex": [
       "$\\displaystyle {R}{}^{3}\\,{}_{0}\\,{}_{3}\\,{}_{1}\\, = \\frac{\\frac{\\partial}{\\partial t} \\lambda_{}{\\left(t,r \\right)}}{2 r}$"
      ],
      "text/plain": [
       "<IPython.core.display.Math object>"
      ]
     },
     "metadata": {},
     "output_type": "display_data"
    },
    {
     "data": {
      "text/latex": [
       "$\\displaystyle {R}{}^{3}\\,{}_{1}\\,{}_{0}\\,{}_{3}\\, = - \\frac{\\frac{\\partial}{\\partial t} \\lambda_{}{\\left(t,r \\right)}}{2 r}$"
      ],
      "text/plain": [
       "<IPython.core.display.Math object>"
      ]
     },
     "metadata": {},
     "output_type": "display_data"
    },
    {
     "data": {
      "text/latex": [
       "$\\displaystyle {R}{}^{3}\\,{}_{1}\\,{}_{1}\\,{}_{3}\\, = - \\frac{\\frac{\\partial}{\\partial r} \\lambda_{}{\\left(t,r \\right)}}{2 r}$"
      ],
      "text/plain": [
       "<IPython.core.display.Math object>"
      ]
     },
     "metadata": {},
     "output_type": "display_data"
    },
    {
     "data": {
      "text/latex": [
       "$\\displaystyle {R}{}^{3}\\,{}_{1}\\,{}_{3}\\,{}_{0}\\, = \\frac{\\frac{\\partial}{\\partial t} \\lambda_{}{\\left(t,r \\right)}}{2 r}$"
      ],
      "text/plain": [
       "<IPython.core.display.Math object>"
      ]
     },
     "metadata": {},
     "output_type": "display_data"
    },
    {
     "data": {
      "text/latex": [
       "$\\displaystyle {R}{}^{3}\\,{}_{1}\\,{}_{3}\\,{}_{1}\\, = \\frac{\\frac{\\partial}{\\partial r} \\lambda_{}{\\left(t,r \\right)}}{2 r}$"
      ],
      "text/plain": [
       "<IPython.core.display.Math object>"
      ]
     },
     "metadata": {},
     "output_type": "display_data"
    },
    {
     "data": {
      "text/latex": [
       "$\\displaystyle {R}{}^{3}\\,{}_{2}\\,{}_{2}\\,{}_{3}\\, = - \\left(e^{\\lambda_{}{\\left(t,r \\right)}} - 1\\right) e^{- \\lambda_{}{\\left(t,r \\right)}}$"
      ],
      "text/plain": [
       "<IPython.core.display.Math object>"
      ]
     },
     "metadata": {},
     "output_type": "display_data"
    },
    {
     "data": {
      "text/latex": [
       "$\\displaystyle {R}{}^{3}\\,{}_{2}\\,{}_{3}\\,{}_{2}\\, = \\left(e^{\\lambda_{}{\\left(t,r \\right)}} - 1\\right) e^{- \\lambda_{}{\\left(t,r \\right)}}$"
      ],
      "text/plain": [
       "<IPython.core.display.Math object>"
      ]
     },
     "metadata": {},
     "output_type": "display_data"
    }
   ],
   "source": [
    "R = pt.riemann()\n",
    "R.display(\"^,_,_,_\")"
   ]
  },
  {
   "cell_type": "code",
   "execution_count": 5,
   "id": "7087e717-d98c-462b-bd1c-34028142dc3d",
   "metadata": {},
   "outputs": [
    {
     "data": {
      "text/latex": [
       "Ricci Tensor $R_{\\alpha \\beta}$"
      ],
      "text/plain": [
       "<IPython.core.display.Latex object>"
      ]
     },
     "metadata": {},
     "output_type": "display_data"
    },
    {
     "data": {
      "application/vnd.jupyter.widget-view+json": {
       "model_id": "afd144a8cc8244519d42e59aaaa8bc82",
       "version_major": 2,
       "version_minor": 0
      },
      "text/plain": [
       "  0%|          | 0/16 [00:00<?, ?it/s]"
      ]
     },
     "metadata": {},
     "output_type": "display_data"
    },
    {
     "data": {
      "text/latex": [
       "$\\displaystyle {R}{}_{0}\\,{}_{0}\\, = - \\frac{\\left(r e^{\\lambda_{}{\\left(t,r \\right)}} \\left(\\frac{\\partial}{\\partial t} \\lambda_{}{\\left(t,r \\right)}\\right)^{2} - r e^{\\lambda_{}{\\left(t,r \\right)}} \\frac{\\partial}{\\partial t} \\lambda_{}{\\left(t,r \\right)} \\frac{\\partial}{\\partial t} \\nu{\\left(t,r \\right)} + 2 r e^{\\lambda_{}{\\left(t,r \\right)}} \\frac{\\partial^{2}}{\\partial t^{2}} \\lambda_{}{\\left(t,r \\right)} + r e^{\\nu{\\left(t,r \\right)}} \\frac{\\partial}{\\partial r} \\lambda_{}{\\left(t,r \\right)} \\frac{\\partial}{\\partial r} \\nu{\\left(t,r \\right)} - r e^{\\nu{\\left(t,r \\right)}} \\left(\\frac{\\partial}{\\partial r} \\nu{\\left(t,r \\right)}\\right)^{2} - 2 r e^{\\nu{\\left(t,r \\right)}} \\frac{\\partial^{2}}{\\partial r^{2}} \\nu{\\left(t,r \\right)} - 4 e^{\\nu{\\left(t,r \\right)}} \\frac{\\partial}{\\partial r} \\nu{\\left(t,r \\right)}\\right) e^{- \\lambda_{}{\\left(t,r \\right)}}}{4 r}$"
      ],
      "text/plain": [
       "<IPython.core.display.Math object>"
      ]
     },
     "metadata": {},
     "output_type": "display_data"
    },
    {
     "data": {
      "text/latex": [
       "$\\displaystyle {R}{}_{0}\\,{}_{1}\\, = \\frac{\\frac{\\partial}{\\partial t} \\lambda_{}{\\left(t,r \\right)}}{r}$"
      ],
      "text/plain": [
       "<IPython.core.display.Math object>"
      ]
     },
     "metadata": {},
     "output_type": "display_data"
    },
    {
     "data": {
      "text/latex": [
       "$\\displaystyle {R}{}_{1}\\,{}_{0}\\, = \\frac{\\frac{\\partial}{\\partial t} \\lambda_{}{\\left(t,r \\right)}}{r}$"
      ],
      "text/plain": [
       "<IPython.core.display.Math object>"
      ]
     },
     "metadata": {},
     "output_type": "display_data"
    },
    {
     "data": {
      "text/latex": [
       "$\\displaystyle {R}{}_{1}\\,{}_{1}\\, = \\frac{\\left(r e^{\\lambda_{}{\\left(t,r \\right)}} \\left(\\frac{\\partial}{\\partial t} \\lambda_{}{\\left(t,r \\right)}\\right)^{2} - r e^{\\lambda_{}{\\left(t,r \\right)}} \\frac{\\partial}{\\partial t} \\lambda_{}{\\left(t,r \\right)} \\frac{\\partial}{\\partial t} \\nu{\\left(t,r \\right)} + 2 r e^{\\lambda_{}{\\left(t,r \\right)}} \\frac{\\partial^{2}}{\\partial t^{2}} \\lambda_{}{\\left(t,r \\right)} + r e^{\\nu{\\left(t,r \\right)}} \\frac{\\partial}{\\partial r} \\lambda_{}{\\left(t,r \\right)} \\frac{\\partial}{\\partial r} \\nu{\\left(t,r \\right)} - r e^{\\nu{\\left(t,r \\right)}} \\left(\\frac{\\partial}{\\partial r} \\nu{\\left(t,r \\right)}\\right)^{2} - 2 r e^{\\nu{\\left(t,r \\right)}} \\frac{\\partial^{2}}{\\partial r^{2}} \\nu{\\left(t,r \\right)} + 4 e^{\\nu{\\left(t,r \\right)}} \\frac{\\partial}{\\partial r} \\lambda_{}{\\left(t,r \\right)}\\right) e^{- \\nu{\\left(t,r \\right)}}}{4 r}$"
      ],
      "text/plain": [
       "<IPython.core.display.Math object>"
      ]
     },
     "metadata": {},
     "output_type": "display_data"
    },
    {
     "data": {
      "text/latex": [
       "$\\displaystyle {R}{}_{2}\\,{}_{2}\\, = \\frac{\\left(r \\frac{\\partial}{\\partial r} \\lambda_{}{\\left(t,r \\right)} - r \\frac{\\partial}{\\partial r} \\nu{\\left(t,r \\right)} + 2 e^{\\lambda_{}{\\left(t,r \\right)}} - 2\\right) e^{- \\lambda_{}{\\left(t,r \\right)}}}{2}$"
      ],
      "text/plain": [
       "<IPython.core.display.Math object>"
      ]
     },
     "metadata": {},
     "output_type": "display_data"
    },
    {
     "data": {
      "text/latex": [
       "$\\displaystyle {R}{}_{3}\\,{}_{3}\\, = \\frac{\\left(r \\frac{\\partial}{\\partial r} \\lambda_{}{\\left(t,r \\right)} - r \\frac{\\partial}{\\partial r} \\nu{\\left(t,r \\right)} + 2 e^{\\lambda_{}{\\left(t,r \\right)}} - 2\\right) e^{- \\lambda_{}{\\left(t,r \\right)}} \\sin^{2}{\\left(\\theta \\right)}}{2}$"
      ],
      "text/plain": [
       "<IPython.core.display.Math object>"
      ]
     },
     "metadata": {},
     "output_type": "display_data"
    }
   ],
   "source": [
    "Ric = pt.ricci()\n",
    "Ric.display('_,_',aslist=True)"
   ]
  },
  {
   "cell_type": "code",
   "execution_count": 6,
   "id": "6d0c80d9-772e-49b1-ac40-4bdda0dabf17",
   "metadata": {},
   "outputs": [
    {
     "data": {
      "application/vnd.jupyter.widget-view+json": {
       "model_id": "f092c591b98f431ca30d6a78059af159",
       "version_major": 2,
       "version_minor": 0
      },
      "text/plain": [
       "  0%|          | 0/16 [00:00<?, ?it/s]"
      ]
     },
     "metadata": {},
     "output_type": "display_data"
    },
    {
     "data": {
      "text/latex": [
       "Ricci Scalar $R$"
      ],
      "text/plain": [
       "<IPython.core.display.Latex object>"
      ]
     },
     "metadata": {},
     "output_type": "display_data"
    },
    {
     "data": {
      "text/latex": [
       "$\\displaystyle - \\frac{\\left(r^{2} e^{\\lambda_{}{\\left(t,r \\right)}} \\left(\\frac{\\partial}{\\partial t} \\lambda_{}{\\left(t,r \\right)}\\right)^{2} - r^{2} e^{\\lambda_{}{\\left(t,r \\right)}} \\frac{\\partial}{\\partial t} \\lambda_{}{\\left(t,r \\right)} \\frac{\\partial}{\\partial t} \\nu{\\left(t,r \\right)} + 2 r^{2} e^{\\lambda_{}{\\left(t,r \\right)}} \\frac{\\partial^{2}}{\\partial t^{2}} \\lambda_{}{\\left(t,r \\right)} + r^{2} e^{\\nu{\\left(t,r \\right)}} \\frac{\\partial}{\\partial r} \\lambda_{}{\\left(t,r \\right)} \\frac{\\partial}{\\partial r} \\nu{\\left(t,r \\right)} - r^{2} e^{\\nu{\\left(t,r \\right)}} \\left(\\frac{\\partial}{\\partial r} \\nu{\\left(t,r \\right)}\\right)^{2} - 2 r^{2} e^{\\nu{\\left(t,r \\right)}} \\frac{\\partial^{2}}{\\partial r^{2}} \\nu{\\left(t,r \\right)} + 4 r e^{\\nu{\\left(t,r \\right)}} \\frac{\\partial}{\\partial r} \\lambda_{}{\\left(t,r \\right)} - 4 r e^{\\nu{\\left(t,r \\right)}} \\frac{\\partial}{\\partial r} \\nu{\\left(t,r \\right)} + 4 e^{\\lambda_{}{\\left(t,r \\right)}} e^{\\nu{\\left(t,r \\right)}} - 4 e^{\\nu{\\left(t,r \\right)}}\\right) e^{- \\lambda_{}{\\left(t,r \\right)}} e^{- \\nu{\\left(t,r \\right)}}}{2 r^{2}}$"
      ],
      "text/plain": [
       "<IPython.core.display.Math object>"
      ]
     },
     "metadata": {},
     "output_type": "display_data"
    }
   ],
   "source": [
    "S = pt.riccis()\n",
    "pt.display(S)"
   ]
  },
  {
   "cell_type": "code",
   "execution_count": 7,
   "id": "d71588b6-39aa-433d-b12a-5b05f9332a0b",
   "metadata": {},
   "outputs": [
    {
     "data": {
      "text/latex": [
       "Einstein Tensor $G_{\\alpha \\beta}$"
      ],
      "text/plain": [
       "<IPython.core.display.Latex object>"
      ]
     },
     "metadata": {},
     "output_type": "display_data"
    },
    {
     "data": {
      "application/vnd.jupyter.widget-view+json": {
       "model_id": "46dbc32dcb38425484fea5e97a0e277b",
       "version_major": 2,
       "version_minor": 0
      },
      "text/plain": [
       "  0%|          | 0/16 [00:00<?, ?it/s]"
      ]
     },
     "metadata": {},
     "output_type": "display_data"
    },
    {
     "data": {
      "application/vnd.jupyter.widget-view+json": {
       "model_id": "50e70c1491604b0a98f05c73d6eecd73",
       "version_major": 2,
       "version_minor": 0
      },
      "text/plain": [
       "Einstein Tensor $G{^\\alpha}{_\\beta}$:   0%|          | 0/16 [00:00<?, ?it/s]"
      ]
     },
     "metadata": {},
     "output_type": "display_data"
    },
    {
     "data": {
      "application/vnd.jupyter.widget-view+json": {
       "model_id": "32e29500687c4266bc2f356d021fcfae",
       "version_major": 2,
       "version_minor": 0
      },
      "text/plain": [
       "Einstein Tensor $G{^\\alpha}{^\\beta}$:   0%|          | 0/16 [00:00<?, ?it/s]"
      ]
     },
     "metadata": {},
     "output_type": "display_data"
    },
    {
     "data": {
      "application/vnd.jupyter.widget-view+json": {
       "model_id": "7505ef36ea6f4d379a9a3b1cde40b08a",
       "version_major": 2,
       "version_minor": 0
      },
      "text/plain": [
       "Einstein Tensor $G{_\\alpha}{^\\beta}$:   0%|          | 0/16 [00:00<?, ?it/s]"
      ]
     },
     "metadata": {},
     "output_type": "display_data"
    },
    {
     "data": {
      "text/latex": [
       "All other indices of Einstein Tensor $G$  already calculated."
      ],
      "text/plain": [
       "<IPython.core.display.Latex object>"
      ]
     },
     "metadata": {},
     "output_type": "display_data"
    },
    {
     "data": {
      "image/png": "[encoded data removed]",
      "text/latex": [
       "$\\displaystyle \\left[\\begin{matrix}\\frac{\\left(r \\frac{\\partial}{\\partial r} \\lambda_{}{\\left(t,r \\right)} + e^{\\lambda_{}{\\left(t,r \\right)}} - 1\\right) e^{- \\lambda_{}{\\left(t,r \\right)}} e^{\\nu{\\left(t,r \\right)}}}{r^{2}} & \\frac{\\frac{\\partial}{\\partial t} \\lambda_{}{\\left(t,r \\right)}}{r} & 0 & 0\\\\\\frac{\\frac{\\partial}{\\partial t} \\lambda_{}{\\left(t,r \\right)}}{r} & \\frac{r \\frac{\\partial}{\\partial r} \\nu{\\left(t,r \\right)} - e^{\\lambda_{}{\\left(t,r \\right)}} + 1}{r^{2}} & 0 & 0\\\\0 & 0 & - \\frac{r \\left(r e^{\\lambda_{}{\\left(t,r \\right)}} \\left(\\frac{\\partial}{\\partial t} \\lambda_{}{\\left(t,r \\right)}\\right)^{2} - r e^{\\lambda_{}{\\left(t,r \\right)}} \\frac{\\partial}{\\partial t} \\lambda_{}{\\left(t,r \\right)} \\frac{\\partial}{\\partial t} \\nu{\\left(t,r \\right)} + 2 r e^{\\lambda_{}{\\left(t,r \\right)}} \\frac{\\partial^{2}}{\\partial t^{2}} \\lambda_{}{\\left(t,r \\right)} + r e^{\\nu{\\left(t,r \\right)}} \\frac{\\partial}{\\partial r} \\lambda_{}{\\left(t,r \\right)} \\frac{\\partial}{\\partial r} \\nu{\\left(t,r \\right)} - r e^{\\nu{\\left(t,r \\right)}} \\left(\\frac{\\partial}{\\partial r} \\nu{\\left(t,r \\right)}\\right)^{2} - 2 r e^{\\nu{\\left(t,r \\right)}} \\frac{\\partial^{2}}{\\partial r^{2}} \\nu{\\left(t,r \\right)} + 2 e^{\\nu{\\left(t,r \\right)}} \\frac{\\partial}{\\partial r} \\lambda_{}{\\left(t,r \\right)} - 2 e^{\\nu{\\left(t,r \\right)}} \\frac{\\partial}{\\partial r} \\nu{\\left(t,r \\right)}\\right) e^{- \\lambda_{}{\\left(t,r \\right)}} e^{- \\nu{\\left(t,r \\right)}}}{4} & 0\\\\0 & 0 & 0 & - \\frac{r \\left(r e^{\\lambda_{}{\\left(t,r \\right)}} \\left(\\frac{\\partial}{\\partial t} \\lambda_{}{\\left(t,r \\right)}\\right)^{2} - r e^{\\lambda_{}{\\left(t,r \\right)}} \\frac{\\partial}{\\partial t} \\lambda_{}{\\left(t,r \\right)} \\frac{\\partial}{\\partial t} \\nu{\\left(t,r \\right)} + 2 r e^{\\lambda_{}{\\left(t,r \\right)}} \\frac{\\partial^{2}}{\\partial t^{2}} \\lambda_{}{\\left(t,r \\right)} + r e^{\\nu{\\left(t,r \\right)}} \\frac{\\partial}{\\partial r} \\lambda_{}{\\left(t,r \\right)} \\frac{\\partial}{\\partial r} \\nu{\\left(t,r \\right)} - r e^{\\nu{\\left(t,r \\right)}} \\left(\\frac{\\partial}{\\partial r} \\nu{\\left(t,r \\right)}\\right)^{2} - 2 r e^{\\nu{\\left(t,r \\right)}} \\frac{\\partial^{2}}{\\partial r^{2}} \\nu{\\left(t,r \\right)} + 2 e^{\\nu{\\left(t,r \\right)}} \\frac{\\partial}{\\partial r} \\lambda_{}{\\left(t,r \\right)} - 2 e^{\\nu{\\left(t,r \\right)}} \\frac{\\partial}{\\partial r} \\nu{\\left(t,r \\right)}\\right) e^{- \\lambda_{}{\\left(t,r \\right)}} e^{- \\nu{\\left(t,r \\right)}} \\sin^{2}{\\left(\\theta \\right)}}{4}\\end{matrix}\\right]$"
      ],
      "text/plain": [
       "⎡⎛  ∂              λ(t, r)    ⎞  -λ(t, r)  ν(t, r)          ∂                 \n",
       "⎢⎜r⋅──(λ(t, r)) + ℯ        - 1⎟⋅ℯ        ⋅ℯ                 ──(λ(t, r))       \n",
       "⎢⎝  ∂r                        ⎠                             ∂t                \n",
       "⎢─────────────────────────────────────────────────          ───────────       \n",
       "⎢                         2                                      r            \n",
       "⎢                        r                                                    \n",
       "⎢                                                                             \n",
       "⎢                   ∂                                 ∂              λ(t, r)  \n",
       "⎢                   ──(λ(t, r))                     r⋅──(ν(t, r)) - ℯ        +\n",
       "⎢                   ∂t                                ∂r                      \n",
       "⎢                   ───────────                     ──────────────────────────\n",
       "⎢                        r                                        2           \n",
       "⎢                                                                r            \n",
       "⎢                                                                             \n",
       "⎢                                                                             \n",
       "⎢                                                                             \n",
       "⎢                                                                             \n",
       "⎢                                                                             \n",
       "⎢                                                                             \n",
       "⎢                        0                                       0            \n",
       "⎢                                                                             \n",
       "⎢                                                                             \n",
       "⎢                                                                             \n",
       "⎢                                                                             \n",
       "⎢                                                                             \n",
       "⎢                                                                             \n",
       "⎢                                                                             \n",
       "⎢                        0                                       0            \n",
       "⎣                                                                             \n",
       "\n",
       "                                                                              \n",
       "                                                                              \n",
       "                                                                              \n",
       "                                                                              \n",
       "                                                                              \n",
       "                                                                              \n",
       "                                                                              \n",
       "                                                                              \n",
       " 1                                                                            \n",
       "                                                                              \n",
       "──                                                                            \n",
       "                                                                              \n",
       "                                                                              \n",
       "                                                                              \n",
       "       ⎛                        2                                             \n",
       "       ⎜   λ(t, r) ⎛∂          ⎞       λ(t, r) ∂           ∂                  \n",
       "    -r⋅⎜r⋅ℯ       ⋅⎜──(λ(t, r))⎟  - r⋅ℯ       ⋅──(λ(t, r))⋅──(ν(t, r)) + 2⋅r⋅ℯ\n",
       "       ⎜           ⎝∂t         ⎠               ∂t          ∂t                 \n",
       "       ⎝                                                                      \n",
       "    ──────────────────────────────────────────────────────────────────────────\n",
       "                                                                              \n",
       "                                                                              \n",
       "                                                                              \n",
       "                                                                              \n",
       "                                                                              \n",
       "                                                                              \n",
       "                                                                              \n",
       "                                                                              \n",
       "                                                                              \n",
       "\n",
       "                                                                              \n",
       "                                                                              \n",
       "                                                                              \n",
       "                                                       0                      \n",
       "                                                                              \n",
       "                                                                              \n",
       "                                                                              \n",
       "                                                                              \n",
       "                                                                              \n",
       "                                                                              \n",
       "                                                       0                      \n",
       "                                                                              \n",
       "                                                                              \n",
       "                                                                              \n",
       "          2                                                                   \n",
       "λ(t, r)  ∂                ν(t, r) ∂           ∂                ν(t, r) ⎛∂     \n",
       "       ⋅───(λ(t, r)) + r⋅ℯ       ⋅──(λ(t, r))⋅──(ν(t, r)) - r⋅ℯ       ⋅⎜──(ν(t\n",
       "          2                       ∂r          ∂r                       ⎝∂r    \n",
       "        ∂t                                                                    \n",
       "──────────────────────────────────────────────────────────────────────────────\n",
       "                                                       4                      \n",
       "                                                                              \n",
       "                                                                              \n",
       "                                                                              \n",
       "                                                                              \n",
       "                                                                              \n",
       "                                                                              \n",
       "                                                       0                      \n",
       "                                                                              \n",
       "\n",
       "                                                                              \n",
       "                                                                              \n",
       "                                                                              \n",
       "                                                                              \n",
       "                                                                              \n",
       "                                                                              \n",
       "                                                                              \n",
       "                                                                              \n",
       "                                                                              \n",
       "                                                                              \n",
       "                                                                              \n",
       "                                                                              \n",
       "                                                                              \n",
       "                                                                              \n",
       "      2                  2                                                    \n",
       "     ⎞         ν(t, r)  ∂                ν(t, r) ∂                ν(t, r) ∂   \n",
       ", r))⎟  - 2⋅r⋅ℯ       ⋅───(ν(t, r)) + 2⋅ℯ       ⋅──(λ(t, r)) - 2⋅ℯ       ⋅──(ν\n",
       "     ⎠                   2                       ∂r                       ∂r  \n",
       "                       ∂r                                                     \n",
       "──────────────────────────────────────────────────────────────────────────────\n",
       "                                                                              \n",
       "                                                                              \n",
       "                                                                              \n",
       "                                                                              \n",
       "                                                                              \n",
       "                                                                              \n",
       "                                                                              \n",
       "                                                                              \n",
       "                                                                              \n",
       "\n",
       "                                                                              \n",
       "                                                                              \n",
       "                                                                              \n",
       "                                                                              \n",
       "                                                                              \n",
       "                                                                              \n",
       "                                                                              \n",
       "                                                                              \n",
       "                                                                              \n",
       "                                                                              \n",
       "                                                                              \n",
       "                                                                              \n",
       "                                                                              \n",
       "                                                                              \n",
       "       ⎞                                                                      \n",
       "       ⎟  -λ(t, r)  -ν(t, r)                                                  \n",
       "(t, r))⎟⋅ℯ        ⋅ℯ                                                          \n",
       "       ⎟                                                                      \n",
       "       ⎠                                                                      \n",
       "─────────────────────────────                                                 \n",
       "                                                                              \n",
       "                                                                              \n",
       "                                  ⎛                        2                  \n",
       "                                  ⎜   λ(t, r) ⎛∂          ⎞       λ(t, r) ∂   \n",
       "                               -r⋅⎜r⋅ℯ       ⋅⎜──(λ(t, r))⎟  - r⋅ℯ       ⋅──(λ\n",
       "                                  ⎜           ⎝∂t         ⎠               ∂t  \n",
       "                                  ⎝                                           \n",
       "                               ───────────────────────────────────────────────\n",
       "                                                                              \n",
       "\n",
       "                                                                              \n",
       "                                                                              \n",
       "                                                                              \n",
       "                                                                              \n",
       "                                                                              \n",
       "                                                                              \n",
       "                                                                              \n",
       "                                                                              \n",
       "                                                                              \n",
       "                                                                              \n",
       "                                                                              \n",
       "                                                                              \n",
       "                                                                              \n",
       "                                                                              \n",
       "                                                                              \n",
       "                                                                              \n",
       "                                                                              \n",
       "                                                                              \n",
       "                                                                              \n",
       "                                                                              \n",
       "                                                                              \n",
       "                                                                              \n",
       "                                     2                                        \n",
       "        ∂                  λ(t, r)  ∂                ν(t, r) ∂           ∂    \n",
       "(t, r))⋅──(ν(t, r)) + 2⋅r⋅ℯ       ⋅───(λ(t, r)) + r⋅ℯ       ⋅──(λ(t, r))⋅──(ν(\n",
       "        ∂t                           2                       ∂r          ∂r   \n",
       "                                   ∂t                                         \n",
       "──────────────────────────────────────────────────────────────────────────────\n",
       "                                                                              \n",
       "\n",
       "                                                                              \n",
       "                                                                              \n",
       "                                                                              \n",
       "        0                                                                     \n",
       "                                                                              \n",
       "                                                                              \n",
       "                                                                              \n",
       "                                                                              \n",
       "                                                                              \n",
       "                                                                              \n",
       "        0                                                                     \n",
       "                                                                              \n",
       "                                                                              \n",
       "                                                                              \n",
       "                                                                              \n",
       "                                                                              \n",
       "                                                                              \n",
       "                                                                              \n",
       "                                                                              \n",
       "        0                                                                     \n",
       "                                                                              \n",
       "                                                                              \n",
       "                                 2                  2                         \n",
       "            ν(t, r) ⎛∂          ⎞         ν(t, r)  ∂                ν(t, r) ∂ \n",
       "t, r)) - r⋅ℯ       ⋅⎜──(ν(t, r))⎟  - 2⋅r⋅ℯ       ⋅───(ν(t, r)) + 2⋅ℯ       ⋅──\n",
       "                    ⎝∂r         ⎠                   2                       ∂r\n",
       "                                                  ∂r                          \n",
       "──────────────────────────────────────────────────────────────────────────────\n",
       "        4                                                                     \n",
       "\n",
       "                                                                ⎤\n",
       "                                                                ⎥\n",
       "                                                                ⎥\n",
       "                                                                ⎥\n",
       "                                                                ⎥\n",
       "                                                                ⎥\n",
       "                                                                ⎥\n",
       "                                                                ⎥\n",
       "                                                                ⎥\n",
       "                                                                ⎥\n",
       "                                                                ⎥\n",
       "                                                                ⎥\n",
       "                                                                ⎥\n",
       "                                                                ⎥\n",
       "                                                                ⎥\n",
       "                                                                ⎥\n",
       "                                                                ⎥\n",
       "                                                                ⎥\n",
       "                                                                ⎥\n",
       "                                                                ⎥\n",
       "                                                                ⎥\n",
       "                                                                ⎥\n",
       "                                  ⎞                             ⎥\n",
       "               ν(t, r) ∂          ⎟  -λ(t, r)  -ν(t, r)    2    ⎥\n",
       "(λ(t, r)) - 2⋅ℯ       ⋅──(ν(t, r))⎟⋅ℯ        ⋅ℯ        ⋅sin (θ) ⎥\n",
       "                       ∂r         ⎟                             ⎥\n",
       "                                  ⎠                             ⎥\n",
       "────────────────────────────────────────────────────────────────⎥\n",
       "                                                                ⎦"
      ]
     },
     "metadata": {},
     "output_type": "display_data"
    }
   ],
   "source": [
    "G = pt.einstein(All=True)\n",
    "G.display('_,_')"
   ]
  },
  {
   "cell_type": "code",
   "execution_count": 8,
   "id": "62273e4d-929d-487e-b593-5b8d492818b6",
   "metadata": {},
   "outputs": [
    {
     "data": {
      "image/png": "[encoded data removed]",
      "text/latex": [
       "$\\displaystyle \\left[\\begin{matrix}\\frac{\\left(r \\frac{\\partial}{\\partial r} \\lambda_{}{\\left(t,r \\right)} + e^{\\lambda_{}{\\left(t,r \\right)}} - 1\\right) e^{- \\lambda_{}{\\left(t,r \\right)}}}{r^{2}} & \\frac{e^{- \\nu{\\left(t,r \\right)}} \\frac{\\partial}{\\partial t} \\lambda_{}{\\left(t,r \\right)}}{r} & 0 & 0\\\\- \\frac{e^{- \\lambda_{}{\\left(t,r \\right)}} \\frac{\\partial}{\\partial t} \\lambda_{}{\\left(t,r \\right)}}{r} & - \\frac{\\left(r \\frac{\\partial}{\\partial r} \\nu{\\left(t,r \\right)} - e^{\\lambda_{}{\\left(t,r \\right)}} + 1\\right) e^{- \\lambda_{}{\\left(t,r \\right)}}}{r^{2}} & 0 & 0\\\\0 & 0 & \\frac{\\left(r e^{\\lambda_{}{\\left(t,r \\right)}} \\left(\\frac{\\partial}{\\partial t} \\lambda_{}{\\left(t,r \\right)}\\right)^{2} - r e^{\\lambda_{}{\\left(t,r \\right)}} \\frac{\\partial}{\\partial t} \\lambda_{}{\\left(t,r \\right)} \\frac{\\partial}{\\partial t} \\nu{\\left(t,r \\right)} + 2 r e^{\\lambda_{}{\\left(t,r \\right)}} \\frac{\\partial^{2}}{\\partial t^{2}} \\lambda_{}{\\left(t,r \\right)} + r e^{\\nu{\\left(t,r \\right)}} \\frac{\\partial}{\\partial r} \\lambda_{}{\\left(t,r \\right)} \\frac{\\partial}{\\partial r} \\nu{\\left(t,r \\right)} - r e^{\\nu{\\left(t,r \\right)}} \\left(\\frac{\\partial}{\\partial r} \\nu{\\left(t,r \\right)}\\right)^{2} - 2 r e^{\\nu{\\left(t,r \\right)}} \\frac{\\partial^{2}}{\\partial r^{2}} \\nu{\\left(t,r \\right)} + 2 e^{\\nu{\\left(t,r \\right)}} \\frac{\\partial}{\\partial r} \\lambda_{}{\\left(t,r \\right)} - 2 e^{\\nu{\\left(t,r \\right)}} \\frac{\\partial}{\\partial r} \\nu{\\left(t,r \\right)}\\right) e^{- \\lambda_{}{\\left(t,r \\right)}} e^{- \\nu{\\left(t,r \\right)}}}{4 r} & 0\\\\0 & 0 & 0 & \\frac{\\left(r e^{\\lambda_{}{\\left(t,r \\right)}} \\left(\\frac{\\partial}{\\partial t} \\lambda_{}{\\left(t,r \\right)}\\right)^{2} - r e^{\\lambda_{}{\\left(t,r \\right)}} \\frac{\\partial}{\\partial t} \\lambda_{}{\\left(t,r \\right)} \\frac{\\partial}{\\partial t} \\nu{\\left(t,r \\right)} + 2 r e^{\\lambda_{}{\\left(t,r \\right)}} \\frac{\\partial^{2}}{\\partial t^{2}} \\lambda_{}{\\left(t,r \\right)} + r e^{\\nu{\\left(t,r \\right)}} \\frac{\\partial}{\\partial r} \\lambda_{}{\\left(t,r \\right)} \\frac{\\partial}{\\partial r} \\nu{\\left(t,r \\right)} - r e^{\\nu{\\left(t,r \\right)}} \\left(\\frac{\\partial}{\\partial r} \\nu{\\left(t,r \\right)}\\right)^{2} - 2 r e^{\\nu{\\left(t,r \\right)}} \\frac{\\partial^{2}}{\\partial r^{2}} \\nu{\\left(t,r \\right)} + 2 e^{\\nu{\\left(t,r \\right)}} \\frac{\\partial}{\\partial r} \\lambda_{}{\\left(t,r \\right)} - 2 e^{\\nu{\\left(t,r \\right)}} \\frac{\\partial}{\\partial r} \\nu{\\left(t,r \\right)}\\right) e^{- \\lambda_{}{\\left(t,r \\right)}} e^{- \\nu{\\left(t,r \\right)}}}{4 r}\\end{matrix}\\right]$"
      ],
      "text/plain": [
       "⎡⎛  ∂              λ(t, r)    ⎞  -λ(t, r)             -ν(t, r) ∂              \n",
       "⎢⎜r⋅──(λ(t, r)) + ℯ        - 1⎟⋅ℯ                    ℯ        ⋅──(λ(t, r))    \n",
       "⎢⎝  ∂r                        ⎠                                ∂t             \n",
       "⎢────────────────────────────────────────            ─────────────────────    \n",
       "⎢                    2                                         r              \n",
       "⎢                   r                                                         \n",
       "⎢                                                                             \n",
       "⎢          -λ(t, r) ∂                       ⎛  ∂              λ(t, r)    ⎞  -λ\n",
       "⎢        -ℯ        ⋅──(λ(t, r))            -⎜r⋅──(ν(t, r)) - ℯ        + 1⎟⋅ℯ  \n",
       "⎢                   ∂t                      ⎝  ∂r                        ⎠    \n",
       "⎢        ───────────────────────           ───────────────────────────────────\n",
       "⎢                   r                                           2             \n",
       "⎢                                                              r              \n",
       "⎢                                                                             \n",
       "⎢                                                                             \n",
       "⎢                                                                             \n",
       "⎢                                                                             \n",
       "⎢                                                                             \n",
       "⎢                                                                             \n",
       "⎢                   0                                          0              \n",
       "⎢                                                                             \n",
       "⎢                                                                             \n",
       "⎢                                                                             \n",
       "⎢                                                                             \n",
       "⎢                                                                             \n",
       "⎢                                                                             \n",
       "⎢                                                                             \n",
       "⎢                   0                                          0              \n",
       "⎣                                                                             \n",
       "\n",
       "                                                                              \n",
       "                                                                              \n",
       "                                                                              \n",
       "                                                                              \n",
       "                                                                              \n",
       "                                                                              \n",
       "                                                                              \n",
       "(t, r)                                                                        \n",
       "                                                                              \n",
       "                                                                              \n",
       "───────                                                                       \n",
       "                                                                              \n",
       "                                                                              \n",
       "                                                                              \n",
       "         ⎛                        2                                           \n",
       "         ⎜   λ(t, r) ⎛∂          ⎞       λ(t, r) ∂           ∂                \n",
       "         ⎜r⋅ℯ       ⋅⎜──(λ(t, r))⎟  - r⋅ℯ       ⋅──(λ(t, r))⋅──(ν(t, r)) + 2⋅r\n",
       "         ⎜           ⎝∂t         ⎠               ∂t          ∂t               \n",
       "         ⎝                                                                    \n",
       "         ─────────────────────────────────────────────────────────────────────\n",
       "                                                                              \n",
       "                                                                              \n",
       "                                                                              \n",
       "                                                                              \n",
       "                                                                              \n",
       "                                                                              \n",
       "                                                                              \n",
       "                                                                              \n",
       "                                                                              \n",
       "\n",
       "                                                                              \n",
       "                                                                              \n",
       "                                                                              \n",
       "                                                          0                   \n",
       "                                                                              \n",
       "                                                                              \n",
       "                                                                              \n",
       "                                                                              \n",
       "                                                                              \n",
       "                                                                              \n",
       "                                                          0                   \n",
       "                                                                              \n",
       "                                                                              \n",
       "                                                                              \n",
       "            2                                                                 \n",
       "  λ(t, r)  ∂                ν(t, r) ∂           ∂                ν(t, r) ⎛∂   \n",
       "⋅ℯ       ⋅───(λ(t, r)) + r⋅ℯ       ⋅──(λ(t, r))⋅──(ν(t, r)) - r⋅ℯ       ⋅⎜──(ν\n",
       "            2                       ∂r          ∂r                       ⎝∂r  \n",
       "          ∂t                                                                  \n",
       "──────────────────────────────────────────────────────────────────────────────\n",
       "                                                         4⋅r                  \n",
       "                                                                              \n",
       "                                                                              \n",
       "                                                                              \n",
       "                                                                              \n",
       "                                                                              \n",
       "                                                                              \n",
       "                                                          0                   \n",
       "                                                                              \n",
       "\n",
       "                                                                              \n",
       "                                                                              \n",
       "                                                                              \n",
       "                                                                              \n",
       "                                                                              \n",
       "                                                                              \n",
       "                                                                              \n",
       "                                                                              \n",
       "                                                                              \n",
       "                                                                              \n",
       "                                                                              \n",
       "                                                                              \n",
       "                                                                              \n",
       "                                                                              \n",
       "        2                  2                                                  \n",
       "       ⎞         ν(t, r)  ∂                ν(t, r) ∂                ν(t, r) ∂ \n",
       "(t, r))⎟  - 2⋅r⋅ℯ       ⋅───(ν(t, r)) + 2⋅ℯ       ⋅──(λ(t, r)) - 2⋅ℯ       ⋅──\n",
       "       ⎠                   2                       ∂r                       ∂r\n",
       "                         ∂r                                                   \n",
       "──────────────────────────────────────────────────────────────────────────────\n",
       "                                                                              \n",
       "                                                                              \n",
       "                                                                              \n",
       "                                                                              \n",
       "                                                                              \n",
       "                                                                              \n",
       "                                                                              \n",
       "                                                                              \n",
       "                                                                              \n",
       "\n",
       "                                                                              \n",
       "                                                                              \n",
       "                                                                              \n",
       "                                                                              \n",
       "                                                                              \n",
       "                                                                              \n",
       "                                                                              \n",
       "                                                                              \n",
       "                                                                              \n",
       "                                                                              \n",
       "                                                                              \n",
       "                                                                              \n",
       "                                                                              \n",
       "                                                                              \n",
       "         ⎞                                                                    \n",
       "         ⎟  -λ(t, r)  -ν(t, r)                                                \n",
       "(ν(t, r))⎟⋅ℯ        ⋅ℯ                                                        \n",
       "         ⎟                                                                    \n",
       "         ⎠                                                                    \n",
       "──────────────────────────────                                                \n",
       "                                                                              \n",
       "                                                                              \n",
       "                                ⎛                        2                    \n",
       "                                ⎜   λ(t, r) ⎛∂          ⎞       λ(t, r) ∂     \n",
       "                                ⎜r⋅ℯ       ⋅⎜──(λ(t, r))⎟  - r⋅ℯ       ⋅──(λ(t\n",
       "                                ⎜           ⎝∂t         ⎠               ∂t    \n",
       "                                ⎝                                             \n",
       "                                ──────────────────────────────────────────────\n",
       "                                                                              \n",
       "\n",
       "                                                                              \n",
       "                                                                              \n",
       "                                                                              \n",
       "                                                                              \n",
       "                                                                              \n",
       "                                                                              \n",
       "                                                                              \n",
       "                                                                              \n",
       "                                                                              \n",
       "                                                                              \n",
       "                                                                              \n",
       "                                                                              \n",
       "                                                                              \n",
       "                                                                              \n",
       "                                                                              \n",
       "                                                                              \n",
       "                                                                              \n",
       "                                                                              \n",
       "                                                                              \n",
       "                                                                              \n",
       "                                                                              \n",
       "                                                                              \n",
       "                                   2                                          \n",
       "      ∂                  λ(t, r)  ∂                ν(t, r) ∂           ∂      \n",
       ", r))⋅──(ν(t, r)) + 2⋅r⋅ℯ       ⋅───(λ(t, r)) + r⋅ℯ       ⋅──(λ(t, r))⋅──(ν(t,\n",
       "      ∂t                           2                       ∂r          ∂r     \n",
       "                                 ∂t                                           \n",
       "──────────────────────────────────────────────────────────────────────────────\n",
       "                                                                              \n",
       "\n",
       "                                                                              \n",
       "                                                                              \n",
       "                                                                              \n",
       "   0                                                                          \n",
       "                                                                              \n",
       "                                                                              \n",
       "                                                                              \n",
       "                                                                              \n",
       "                                                                              \n",
       "                                                                              \n",
       "   0                                                                          \n",
       "                                                                              \n",
       "                                                                              \n",
       "                                                                              \n",
       "                                                                              \n",
       "                                                                              \n",
       "                                                                              \n",
       "                                                                              \n",
       "                                                                              \n",
       "   0                                                                          \n",
       "                                                                              \n",
       "                                                                              \n",
       "                               2                  2                           \n",
       "          ν(t, r) ⎛∂          ⎞         ν(t, r)  ∂                ν(t, r) ∂   \n",
       " r)) - r⋅ℯ       ⋅⎜──(ν(t, r))⎟  - 2⋅r⋅ℯ       ⋅───(ν(t, r)) + 2⋅ℯ       ⋅──(λ\n",
       "                  ⎝∂r         ⎠                   2                       ∂r  \n",
       "                                                ∂r                            \n",
       "──────────────────────────────────────────────────────────────────────────────\n",
       "  4⋅r                                                                         \n",
       "\n",
       "                                                     ⎤\n",
       "                                                     ⎥\n",
       "                                                     ⎥\n",
       "                                                     ⎥\n",
       "                                                     ⎥\n",
       "                                                     ⎥\n",
       "                                                     ⎥\n",
       "                                                     ⎥\n",
       "                                                     ⎥\n",
       "                                                     ⎥\n",
       "                                                     ⎥\n",
       "                                                     ⎥\n",
       "                                                     ⎥\n",
       "                                                     ⎥\n",
       "                                                     ⎥\n",
       "                                                     ⎥\n",
       "                                                     ⎥\n",
       "                                                     ⎥\n",
       "                                                     ⎥\n",
       "                                                     ⎥\n",
       "                                                     ⎥\n",
       "                                                     ⎥\n",
       "                                ⎞                    ⎥\n",
       "             ν(t, r) ∂          ⎟  -λ(t, r)  -ν(t, r)⎥\n",
       "(t, r)) - 2⋅ℯ       ⋅──(ν(t, r))⎟⋅ℯ        ⋅ℯ        ⎥\n",
       "                     ∂r         ⎟                    ⎥\n",
       "                                ⎠                    ⎥\n",
       "─────────────────────────────────────────────────────⎥\n",
       "                                                     ⎦"
      ]
     },
     "metadata": {},
     "output_type": "display_data"
    }
   ],
   "source": [
    "G.display('^,_')"
   ]
  },
  {
   "cell_type": "code",
   "execution_count": null,
   "id": "a3667f04-39ea-4a4f-b073-8d6c718320d9",
   "metadata": {},
   "outputs": [],
   "source": []
  }
 ],
 "metadata": {
  "kernelspec": {
   "display_name": "Python 3 (ipykernel)",
   "language": "python",
   "name": "python3"
  },
  "language_info": {
   "codemirror_mode": {
    "name": "ipython",
    "version": 3
   },
   "file_extension": ".py",
   "mimetype": "text/x-python",
   "name": "python",
   "nbconvert_exporter": "python",
   "pygments_lexer": "ipython3",
   "version": "3.12.0"
  }
 },
 "nbformat": 4,
 "nbformat_minor": 5
}
