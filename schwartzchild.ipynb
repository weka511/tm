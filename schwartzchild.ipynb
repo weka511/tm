{
 "cells": [
  {
   "cell_type": "code",
   "execution_count": 1,
   "id": "32cbd103-ba7a-459a-9079-5e8a61409674",
   "metadata": {},
   "outputs": [],
   "source": [
    "import pytearcat as pt"
   ]
  },
  {
   "cell_type": "code",
   "execution_count": 9,
   "id": "bb7b3f1b-db49-4a6d-af2b-749149cc5597",
   "metadata": {},
   "outputs": [
    {
     "name": "stdout",
     "output_type": "stream",
     "text": [
      "Remember that the time coordinate must be the first coordinate.\n",
      "Function nu(t,r) is already defined\n",
      "Function lambda_(t,r) is already defined\n"
     ]
    },
    {
     "name": "stdin",
     "output_type": "stream",
     "text": [
      "The metric has already been defined. Do you want to overwrite it? (yes/no) yes\n"
     ]
    },
    {
     "name": "stdout",
     "output_type": "stream",
     "text": [
      "The metric has been redefined. Standard tensors have been deleted.\n",
      "\n",
      "Dimension = 4\n",
      "Coordinates = t,r,theta,phi\n",
      "Metric defined successfully: \n",
      "\n"
     ]
    },
    {
     "data": {
      "text/latex": [
       "$\\displaystyle ds^2 = e^{\\nu{\\left(t,r \\right)}} \\cdot dt^2- e^{\\lambda_{}{\\left(t,r \\right)}} \\cdot dr^2- r^{2} \\cdot d\\theta^2- r^{2} \\sin^{2}{\\left(\\theta \\right)} \\cdot d\\phi^2$"
      ],
      "text/plain": [
       "<IPython.core.display.Math object>"
      ]
     },
     "metadata": {},
     "output_type": "display_data"
    },
    {
     "data": {
      "image/png": "[encoded data removed]",
      "text/latex": [
       "$\\displaystyle \\left[\\begin{matrix}e^{\\nu{\\left(t,r \\right)}} & 0 & 0 & 0\\\\0 & - e^{\\lambda_{}{\\left(t,r \\right)}} & 0 & 0\\\\0 & 0 & - r^{2} & 0\\\\0 & 0 & 0 & - r^{2} \\sin^{2}{\\left(\\theta \\right)}\\end{matrix}\\right]$"
      ],
      "text/plain": [
       "⎡ ν(t, r)                             ⎤\n",
       "⎢ℯ             0       0        0     ⎥\n",
       "⎢                                     ⎥\n",
       "⎢            λ(t, r)                  ⎥\n",
       "⎢   0      -ℯ          0        0     ⎥\n",
       "⎢                                     ⎥\n",
       "⎢                       2             ⎥\n",
       "⎢   0          0      -r        0     ⎥\n",
       "⎢                                     ⎥\n",
       "⎢                            2    2   ⎥\n",
       "⎣   0          0       0   -r ⋅sin (θ)⎦"
      ]
     },
     "metadata": {},
     "output_type": "display_data"
    }
   ],
   "source": [
    "    t,r,theta,phi = pt.coords('t,r,theta,phi')\n",
    "    nu = pt.fun('nu','t,r')\n",
    "    lambda_ = pt.fun('lambda_','t,r')\n",
    "    ds = 'ds2 = exp(nu)*dt**2 - exp(lambda_)*dr**2 - r**2*(dtheta**2 + sin(theta)**2 *dphi**2)'\n",
    "    g = pt.metric(ds)"
   ]
  },
  {
   "cell_type": "code",
   "execution_count": 3,
   "id": "28bf8dec-ff3b-468a-ba3a-e893ee82e54a",
   "metadata": {},
   "outputs": [
    {
     "data": {
      "text/latex": [
       "Christoffel $\\Gamma_{\\alpha \\beta \\gamma}$ and $\\Gamma^{\\alpha}_{\\beta \\gamma}$"
      ],
      "text/plain": [
       "<IPython.core.display.Latex object>"
      ]
     },
     "metadata": {},
     "output_type": "display_data"
    },
    {
     "data": {
      "application/vnd.jupyter.widget-view+json": {
       "model_id": "b80ed05beec04fe2a45d4b7a7d7b296b",
       "version_major": 2,
       "version_minor": 0
      },
      "text/plain": [
       "  0%|          | 0/64 [00:00<?, ?it/s]"
      ]
     },
     "metadata": {},
     "output_type": "display_data"
    },
    {
     "data": {
      "text/latex": [
       "$\\displaystyle {\\Gamma}{}_{0}\\,{}_{0}\\,{}_{0}\\, = \\frac{e^{\\nu{\\left(t,r \\right)}} \\frac{\\partial}{\\partial t} \\nu{\\left(t,r \\right)}}{2}$"
      ],
      "text/plain": [
       "<IPython.core.display.Math object>"
      ]
     },
     "metadata": {},
     "output_type": "display_data"
    },
    {
     "data": {
      "text/latex": [
       "$\\displaystyle {\\Gamma}{}_{0}\\,{}_{0}\\,{}_{1}\\, = \\frac{e^{\\nu{\\left(t,r \\right)}} \\frac{\\partial}{\\partial r} \\nu{\\left(t,r \\right)}}{2}$"
      ],
      "text/plain": [
       "<IPython.core.display.Math object>"
      ]
     },
     "metadata": {},
     "output_type": "display_data"
    },
    {
     "data": {
      "text/latex": [
       "$\\displaystyle {\\Gamma}{}_{0}\\,{}_{1}\\,{}_{0}\\, = \\frac{e^{\\nu{\\left(t,r \\right)}} \\frac{\\partial}{\\partial r} \\nu{\\left(t,r \\right)}}{2}$"
      ],
      "text/plain": [
       "<IPython.core.display.Math object>"
      ]
     },
     "metadata": {},
     "output_type": "display_data"
    },
    {
     "data": {
      "text/latex": [
       "$\\displaystyle {\\Gamma}{}_{0}\\,{}_{1}\\,{}_{1}\\, = \\frac{e^{\\lambda_{}{\\left(t,r \\right)}} \\frac{\\partial}{\\partial t} \\lambda_{}{\\left(t,r \\right)}}{2}$"
      ],
      "text/plain": [
       "<IPython.core.display.Math object>"
      ]
     },
     "metadata": {},
     "output_type": "display_data"
    },
    {
     "data": {
      "text/latex": [
       "$\\displaystyle {\\Gamma}{}_{1}\\,{}_{0}\\,{}_{0}\\, = - \\frac{e^{\\nu{\\left(t,r \\right)}} \\frac{\\partial}{\\partial r} \\nu{\\left(t,r \\right)}}{2}$"
      ],
      "text/plain": [
       "<IPython.core.display.Math object>"
      ]
     },
     "metadata": {},
     "output_type": "display_data"
    },
    {
     "data": {
      "text/latex": [
       "$\\displaystyle {\\Gamma}{}_{1}\\,{}_{0}\\,{}_{1}\\, = - \\frac{e^{\\lambda_{}{\\left(t,r \\right)}} \\frac{\\partial}{\\partial t} \\lambda_{}{\\left(t,r \\right)}}{2}$"
      ],
      "text/plain": [
       "<IPython.core.display.Math object>"
      ]
     },
     "metadata": {},
     "output_type": "display_data"
    },
    {
     "data": {
      "text/latex": [
       "$\\displaystyle {\\Gamma}{}_{1}\\,{}_{1}\\,{}_{0}\\, = - \\frac{e^{\\lambda_{}{\\left(t,r \\right)}} \\frac{\\partial}{\\partial t} \\lambda_{}{\\left(t,r \\right)}}{2}$"
      ],
      "text/plain": [
       "<IPython.core.display.Math object>"
      ]
     },
     "metadata": {},
     "output_type": "display_data"
    },
    {
     "data": {
      "text/latex": [
       "$\\displaystyle {\\Gamma}{}_{1}\\,{}_{1}\\,{}_{1}\\, = - \\frac{e^{\\lambda_{}{\\left(t,r \\right)}} \\frac{\\partial}{\\partial r} \\lambda_{}{\\left(t,r \\right)}}{2}$"
      ],
      "text/plain": [
       "<IPython.core.display.Math object>"
      ]
     },
     "metadata": {},
     "output_type": "display_data"
    },
    {
     "data": {
      "text/latex": [
       "$\\displaystyle {\\Gamma}{}_{1}\\,{}_{2}\\,{}_{2}\\, = r$"
      ],
      "text/plain": [
       "<IPython.core.display.Math object>"
      ]
     },
     "metadata": {},
     "output_type": "display_data"
    },
    {
     "data": {
      "text/latex": [
       "$\\displaystyle {\\Gamma}{}_{1}\\,{}_{3}\\,{}_{3}\\, = r \\sin^{2}{\\left(\\theta \\right)}$"
      ],
      "text/plain": [
       "<IPython.core.display.Math object>"
      ]
     },
     "metadata": {},
     "output_type": "display_data"
    },
    {
     "data": {
      "text/latex": [
       "$\\displaystyle {\\Gamma}{}_{2}\\,{}_{1}\\,{}_{2}\\, = - r$"
      ],
      "text/plain": [
       "<IPython.core.display.Math object>"
      ]
     },
     "metadata": {},
     "output_type": "display_data"
    },
    {
     "data": {
      "text/latex": [
       "$\\displaystyle {\\Gamma}{}_{2}\\,{}_{2}\\,{}_{1}\\, = - r$"
      ],
      "text/plain": [
       "<IPython.core.display.Math object>"
      ]
     },
     "metadata": {},
     "output_type": "display_data"
    },
    {
     "data": {
      "text/latex": [
       "$\\displaystyle {\\Gamma}{}_{2}\\,{}_{3}\\,{}_{3}\\, = r^{2} \\sin{\\left(\\theta \\right)} \\cos{\\left(\\theta \\right)}$"
      ],
      "text/plain": [
       "<IPython.core.display.Math object>"
      ]
     },
     "metadata": {},
     "output_type": "display_data"
    },
    {
     "data": {
      "text/latex": [
       "$\\displaystyle {\\Gamma}{}_{3}\\,{}_{1}\\,{}_{3}\\, = - r \\sin^{2}{\\left(\\theta \\right)}$"
      ],
      "text/plain": [
       "<IPython.core.display.Math object>"
      ]
     },
     "metadata": {},
     "output_type": "display_data"
    },
    {
     "data": {
      "text/latex": [
       "$\\displaystyle {\\Gamma}{}_{3}\\,{}_{2}\\,{}_{3}\\, = - r^{2} \\sin{\\left(\\theta \\right)} \\cos{\\left(\\theta \\right)}$"
      ],
      "text/plain": [
       "<IPython.core.display.Math object>"
      ]
     },
     "metadata": {},
     "output_type": "display_data"
    },
    {
     "data": {
      "text/latex": [
       "$\\displaystyle {\\Gamma}{}_{3}\\,{}_{3}\\,{}_{1}\\, = - r \\sin^{2}{\\left(\\theta \\right)}$"
      ],
      "text/plain": [
       "<IPython.core.display.Math object>"
      ]
     },
     "metadata": {},
     "output_type": "display_data"
    },
    {
     "data": {
      "text/latex": [
       "$\\displaystyle {\\Gamma}{}_{3}\\,{}_{3}\\,{}_{2}\\, = - r^{2} \\sin{\\left(\\theta \\right)} \\cos{\\left(\\theta \\right)}$"
      ],
      "text/plain": [
       "<IPython.core.display.Math object>"
      ]
     },
     "metadata": {},
     "output_type": "display_data"
    },
    {
     "data": {
      "text/latex": [
       "$\\displaystyle {\\Gamma}{}^{0}\\,{}_{0}\\,{}_{0}\\, = \\frac{\\frac{\\partial}{\\partial t} \\nu{\\left(t,r \\right)}}{2}$"
      ],
      "text/plain": [
       "<IPython.core.display.Math object>"
      ]
     },
     "metadata": {},
     "output_type": "display_data"
    },
    {
     "data": {
      "text/latex": [
       "$\\displaystyle {\\Gamma}{}^{0}\\,{}_{0}\\,{}_{1}\\, = \\frac{\\frac{\\partial}{\\partial r} \\nu{\\left(t,r \\right)}}{2}$"
      ],
      "text/plain": [
       "<IPython.core.display.Math object>"
      ]
     },
     "metadata": {},
     "output_type": "display_data"
    },
    {
     "data": {
      "text/latex": [
       "$\\displaystyle {\\Gamma}{}^{0}\\,{}_{1}\\,{}_{0}\\, = \\frac{\\frac{\\partial}{\\partial r} \\nu{\\left(t,r \\right)}}{2}$"
      ],
      "text/plain": [
       "<IPython.core.display.Math object>"
      ]
     },
     "metadata": {},
     "output_type": "display_data"
    },
    {
     "data": {
      "text/latex": [
       "$\\displaystyle {\\Gamma}{}^{0}\\,{}_{1}\\,{}_{1}\\, = \\frac{e^{\\lambda_{}{\\left(t,r \\right)}} e^{- \\nu{\\left(t,r \\right)}} \\frac{\\partial}{\\partial t} \\lambda_{}{\\left(t,r \\right)}}{2}$"
      ],
      "text/plain": [
       "<IPython.core.display.Math object>"
      ]
     },
     "metadata": {},
     "output_type": "display_data"
    },
    {
     "data": {
      "text/latex": [
       "$\\displaystyle {\\Gamma}{}^{1}\\,{}_{0}\\,{}_{0}\\, = \\frac{e^{- \\lambda_{}{\\left(t,r \\right)}} e^{\\nu{\\left(t,r \\right)}} \\frac{\\partial}{\\partial r} \\nu{\\left(t,r \\right)}}{2}$"
      ],
      "text/plain": [
       "<IPython.core.display.Math object>"
      ]
     },
     "metadata": {},
     "output_type": "display_data"
    },
    {
     "data": {
      "text/latex": [
       "$\\displaystyle {\\Gamma}{}^{1}\\,{}_{0}\\,{}_{1}\\, = \\frac{\\frac{\\partial}{\\partial t} \\lambda_{}{\\left(t,r \\right)}}{2}$"
      ],
      "text/plain": [
       "<IPython.core.display.Math object>"
      ]
     },
     "metadata": {},
     "output_type": "display_data"
    },
    {
     "data": {
      "text/latex": [
       "$\\displaystyle {\\Gamma}{}^{1}\\,{}_{1}\\,{}_{0}\\, = \\frac{\\frac{\\partial}{\\partial t} \\lambda_{}{\\left(t,r \\right)}}{2}$"
      ],
      "text/plain": [
       "<IPython.core.display.Math object>"
      ]
     },
     "metadata": {},
     "output_type": "display_data"
    },
    {
     "data": {
      "text/latex": [
       "$\\displaystyle {\\Gamma}{}^{1}\\,{}_{1}\\,{}_{1}\\, = \\frac{\\frac{\\partial}{\\partial r} \\lambda_{}{\\left(t,r \\right)}}{2}$"
      ],
      "text/plain": [
       "<IPython.core.display.Math object>"
      ]
     },
     "metadata": {},
     "output_type": "display_data"
    },
    {
     "data": {
      "text/latex": [
       "$\\displaystyle {\\Gamma}{}^{1}\\,{}_{2}\\,{}_{2}\\, = - r e^{- \\lambda_{}{\\left(t,r \\right)}}$"
      ],
      "text/plain": [
       "<IPython.core.display.Math object>"
      ]
     },
     "metadata": {},
     "output_type": "display_data"
    },
    {
     "data": {
      "text/latex": [
       "$\\displaystyle {\\Gamma}{}^{1}\\,{}_{3}\\,{}_{3}\\, = - r e^{- \\lambda_{}{\\left(t,r \\right)}} \\sin^{2}{\\left(\\theta \\right)}$"
      ],
      "text/plain": [
       "<IPython.core.display.Math object>"
      ]
     },
     "metadata": {},
     "output_type": "display_data"
    },
    {
     "data": {
      "text/latex": [
       "$\\displaystyle {\\Gamma}{}^{2}\\,{}_{1}\\,{}_{2}\\, = \\frac{1}{r}$"
      ],
      "text/plain": [
       "<IPython.core.display.Math object>"
      ]
     },
     "metadata": {},
     "output_type": "display_data"
    },
    {
     "data": {
      "text/latex": [
       "$\\displaystyle {\\Gamma}{}^{2}\\,{}_{2}\\,{}_{1}\\, = \\frac{1}{r}$"
      ],
      "text/plain": [
       "<IPython.core.display.Math object>"
      ]
     },
     "metadata": {},
     "output_type": "display_data"
    },
    {
     "data": {
      "text/latex": [
       "$\\displaystyle {\\Gamma}{}^{2}\\,{}_{3}\\,{}_{3}\\, = - \\sin{\\left(\\theta \\right)} \\cos{\\left(\\theta \\right)}$"
      ],
      "text/plain": [
       "<IPython.core.display.Math object>"
      ]
     },
     "metadata": {},
     "output_type": "display_data"
    },
    {
     "data": {
      "text/latex": [
       "$\\displaystyle {\\Gamma}{}^{3}\\,{}_{1}\\,{}_{3}\\, = \\frac{1}{r}$"
      ],
      "text/plain": [
       "<IPython.core.display.Math object>"
      ]
     },
     "metadata": {},
     "output_type": "display_data"
    },
    {
     "data": {
      "text/latex": [
       "$\\displaystyle {\\Gamma}{}^{3}\\,{}_{2}\\,{}_{3}\\, = \\frac{\\cos{\\left(\\theta \\right)}}{\\sin{\\left(\\theta \\right)}}$"
      ],
      "text/plain": [
       "<IPython.core.display.Math object>"
      ]
     },
     "metadata": {},
     "output_type": "display_data"
    },
    {
     "data": {
      "text/latex": [
       "$\\displaystyle {\\Gamma}{}^{3}\\,{}_{3}\\,{}_{1}\\, = \\frac{1}{r}$"
      ],
      "text/plain": [
       "<IPython.core.display.Math object>"
      ]
     },
     "metadata": {},
     "output_type": "display_data"
    },
    {
     "data": {
      "text/latex": [
       "$\\displaystyle {\\Gamma}{}^{3}\\,{}_{3}\\,{}_{2}\\, = \\frac{\\cos{\\left(\\theta \\right)}}{\\sin{\\left(\\theta \\right)}}$"
      ],
      "text/plain": [
       "<IPython.core.display.Math object>"
      ]
     },
     "metadata": {},
     "output_type": "display_data"
    }
   ],
   "source": [
    "chr=pt.christoffel()\n",
    "chr.display()"
   ]
  },
  {
   "cell_type": "code",
   "execution_count": 4,
   "id": "e051db18-11df-4f95-9595-d1d9116d9737",
   "metadata": {},
   "outputs": [
    {
     "data": {
      "text/latex": [
       "Riemann Tensor $R^{\\alpha}_{\\beta \\gamma \\delta}$"
      ],
      "text/plain": [
       "<IPython.core.display.Latex object>"
      ]
     },
     "metadata": {},
     "output_type": "display_data"
    },
    {
     "data": {
      "application/vnd.jupyter.widget-view+json": {
       "model_id": "7fcf7865c8db4dbda504ea10dc5524f9",
       "version_major": 2,
       "version_minor": 0
      },
      "text/plain": [
       "  0%|          | 0/256 [00:00<?, ?it/s]"
      ]
     },
     "metadata": {},
     "output_type": "display_data"
    },
    {
     "data": {
      "text/latex": [
       "$\\displaystyle {R}{}^{0}\\,{}_{1}\\,{}_{0}\\,{}_{1}\\, = \\frac{\\left(e^{\\lambda_{}{\\left(t,r \\right)}} \\left(\\frac{\\partial}{\\partial t} \\lambda_{}{\\left(t,r \\right)}\\right)^{2} - e^{\\lambda_{}{\\left(t,r \\right)}} \\frac{\\partial}{\\partial t} \\lambda_{}{\\left(t,r \\right)} \\frac{\\partial}{\\partial t} \\nu{\\left(t,r \\right)} + 2 e^{\\lambda_{}{\\left(t,r \\right)}} \\frac{\\partial^{2}}{\\partial t^{2}} \\lambda_{}{\\left(t,r \\right)} + e^{\\nu{\\left(t,r \\right)}} \\frac{\\partial}{\\partial r} \\lambda_{}{\\left(t,r \\right)} \\frac{\\partial}{\\partial r} \\nu{\\left(t,r \\right)} - e^{\\nu{\\left(t,r \\right)}} \\left(\\frac{\\partial}{\\partial r} \\nu{\\left(t,r \\right)}\\right)^{2} - 2 e^{\\nu{\\left(t,r \\right)}} \\frac{\\partial^{2}}{\\partial r^{2}} \\nu{\\left(t,r \\right)}\\right) e^{- \\nu{\\left(t,r \\right)}}}{4}$"
      ],
      "text/plain": [
       "<IPython.core.display.Math object>"
      ]
     },
     "metadata": {},
     "output_type": "display_data"
    },
    {
     "data": {
      "text/latex": [
       "$\\displaystyle {R}{}^{0}\\,{}_{1}\\,{}_{1}\\,{}_{0}\\, = - \\frac{\\left(e^{\\lambda_{}{\\left(t,r \\right)}} \\left(\\frac{\\partial}{\\partial t} \\lambda_{}{\\left(t,r \\right)}\\right)^{2} - e^{\\lambda_{}{\\left(t,r \\right)}} \\frac{\\partial}{\\partial t} \\lambda_{}{\\left(t,r \\right)} \\frac{\\partial}{\\partial t} \\nu{\\left(t,r \\right)} + 2 e^{\\lambda_{}{\\left(t,r \\right)}} \\frac{\\partial^{2}}{\\partial t^{2}} \\lambda_{}{\\left(t,r \\right)} + e^{\\nu{\\left(t,r \\right)}} \\frac{\\partial}{\\partial r} \\lambda_{}{\\left(t,r \\right)} \\frac{\\partial}{\\partial r} \\nu{\\left(t,r \\right)} - e^{\\nu{\\left(t,r \\right)}} \\left(\\frac{\\partial}{\\partial r} \\nu{\\left(t,r \\right)}\\right)^{2} - 2 e^{\\nu{\\left(t,r \\right)}} \\frac{\\partial^{2}}{\\partial r^{2}} \\nu{\\left(t,r \\right)}\\right) e^{- \\nu{\\left(t,r \\right)}}}{4}$"
      ],
      "text/plain": [
       "<IPython.core.display.Math object>"
      ]
     },
     "metadata": {},
     "output_type": "display_data"
    },
    {
     "data": {
      "text/latex": [
       "$\\displaystyle {R}{}^{0}\\,{}_{2}\\,{}_{0}\\,{}_{2}\\, = - \\frac{r e^{- \\lambda_{}{\\left(t,r \\right)}} \\frac{\\partial}{\\partial r} \\nu{\\left(t,r \\right)}}{2}$"
      ],
      "text/plain": [
       "<IPython.core.display.Math object>"
      ]
     },
     "metadata": {},
     "output_type": "display_data"
    },
    {
     "data": {
      "text/latex": [
       "$\\displaystyle {R}{}^{0}\\,{}_{2}\\,{}_{1}\\,{}_{2}\\, = - \\frac{r e^{- \\nu{\\left(t,r \\right)}} \\frac{\\partial}{\\partial t} \\lambda_{}{\\left(t,r \\right)}}{2}$"
      ],
      "text/plain": [
       "<IPython.core.display.Math object>"
      ]
     },
     "metadata": {},
     "output_type": "display_data"
    },
    {
     "data": {
      "text/latex": [
       "$\\displaystyle {R}{}^{0}\\,{}_{2}\\,{}_{2}\\,{}_{0}\\, = \\frac{r e^{- \\lambda_{}{\\left(t,r \\right)}} \\frac{\\partial}{\\partial r} \\nu{\\left(t,r \\right)}}{2}$"
      ],
      "text/plain": [
       "<IPython.core.display.Math object>"
      ]
     },
     "metadata": {},
     "output_type": "display_data"
    },
    {
     "data": {
      "text/latex": [
       "$\\displaystyle {R}{}^{0}\\,{}_{2}\\,{}_{2}\\,{}_{1}\\, = \\frac{r e^{- \\nu{\\left(t,r \\right)}} \\frac{\\partial}{\\partial t} \\lambda_{}{\\left(t,r \\right)}}{2}$"
      ],
      "text/plain": [
       "<IPython.core.display.Math object>"
      ]
     },
     "metadata": {},
     "output_type": "display_data"
    },
    {
     "data": {
      "text/latex": [
       "$\\displaystyle {R}{}^{0}\\,{}_{3}\\,{}_{0}\\,{}_{3}\\, = - \\frac{r e^{- \\lambda_{}{\\left(t,r \\right)}} \\sin^{2}{\\left(\\theta \\right)} \\frac{\\partial}{\\partial r} \\nu{\\left(t,r \\right)}}{2}$"
      ],
      "text/plain": [
       "<IPython.core.display.Math object>"
      ]
     },
     "metadata": {},
     "output_type": "display_data"
    },
    {
     "data": {
      "text/latex": [
       "$\\displaystyle {R}{}^{0}\\,{}_{3}\\,{}_{1}\\,{}_{3}\\, = - \\frac{r e^{- \\nu{\\left(t,r \\right)}} \\sin^{2}{\\left(\\theta \\right)} \\frac{\\partial}{\\partial t} \\lambda_{}{\\left(t,r \\right)}}{2}$"
      ],
      "text/plain": [
       "<IPython.core.display.Math object>"
      ]
     },
     "metadata": {},
     "output_type": "display_data"
    },
    {
     "data": {
      "text/latex": [
       "$\\displaystyle {R}{}^{0}\\,{}_{3}\\,{}_{3}\\,{}_{0}\\, = \\frac{r e^{- \\lambda_{}{\\left(t,r \\right)}} \\sin^{2}{\\left(\\theta \\right)} \\frac{\\partial}{\\partial r} \\nu{\\left(t,r \\right)}}{2}$"
      ],
      "text/plain": [
       "<IPython.core.display.Math object>"
      ]
     },
     "metadata": {},
     "output_type": "display_data"
    },
    {
     "data": {
      "text/latex": [
       "$\\displaystyle {R}{}^{0}\\,{}_{3}\\,{}_{3}\\,{}_{1}\\, = \\frac{r e^{- \\nu{\\left(t,r \\right)}} \\sin^{2}{\\left(\\theta \\right)} \\frac{\\partial}{\\partial t} \\lambda_{}{\\left(t,r \\right)}}{2}$"
      ],
      "text/plain": [
       "<IPython.core.display.Math object>"
      ]
     },
     "metadata": {},
     "output_type": "display_data"
    },
    {
     "data": {
      "text/latex": [
       "$\\displaystyle {R}{}^{1}\\,{}_{0}\\,{}_{0}\\,{}_{1}\\, = \\frac{\\left(e^{\\lambda_{}{\\left(t,r \\right)}} \\left(\\frac{\\partial}{\\partial t} \\lambda_{}{\\left(t,r \\right)}\\right)^{2} - e^{\\lambda_{}{\\left(t,r \\right)}} \\frac{\\partial}{\\partial t} \\lambda_{}{\\left(t,r \\right)} \\frac{\\partial}{\\partial t} \\nu{\\left(t,r \\right)} + 2 e^{\\lambda_{}{\\left(t,r \\right)}} \\frac{\\partial^{2}}{\\partial t^{2}} \\lambda_{}{\\left(t,r \\right)} + e^{\\nu{\\left(t,r \\right)}} \\frac{\\partial}{\\partial r} \\lambda_{}{\\left(t,r \\right)} \\frac{\\partial}{\\partial r} \\nu{\\left(t,r \\right)} - e^{\\nu{\\left(t,r \\right)}} \\left(\\frac{\\partial}{\\partial r} \\nu{\\left(t,r \\right)}\\right)^{2} - 2 e^{\\nu{\\left(t,r \\right)}} \\frac{\\partial^{2}}{\\partial r^{2}} \\nu{\\left(t,r \\right)}\\right) e^{- \\lambda_{}{\\left(t,r \\right)}}}{4}$"
      ],
      "text/plain": [
       "<IPython.core.display.Math object>"
      ]
     },
     "metadata": {},
     "output_type": "display_data"
    },
    {
     "data": {
      "text/latex": [
       "$\\displaystyle {R}{}^{1}\\,{}_{0}\\,{}_{1}\\,{}_{0}\\, = - \\frac{\\left(e^{\\lambda_{}{\\left(t,r \\right)}} \\left(\\frac{\\partial}{\\partial t} \\lambda_{}{\\left(t,r \\right)}\\right)^{2} - e^{\\lambda_{}{\\left(t,r \\right)}} \\frac{\\partial}{\\partial t} \\lambda_{}{\\left(t,r \\right)} \\frac{\\partial}{\\partial t} \\nu{\\left(t,r \\right)} + 2 e^{\\lambda_{}{\\left(t,r \\right)}} \\frac{\\partial^{2}}{\\partial t^{2}} \\lambda_{}{\\left(t,r \\right)} + e^{\\nu{\\left(t,r \\right)}} \\frac{\\partial}{\\partial r} \\lambda_{}{\\left(t,r \\right)} \\frac{\\partial}{\\partial r} \\nu{\\left(t,r \\right)} - e^{\\nu{\\left(t,r \\right)}} \\left(\\frac{\\partial}{\\partial r} \\nu{\\left(t,r \\right)}\\right)^{2} - 2 e^{\\nu{\\left(t,r \\right)}} \\frac{\\partial^{2}}{\\partial r^{2}} \\nu{\\left(t,r \\right)}\\right) e^{- \\lambda_{}{\\left(t,r \\right)}}}{4}$"
      ],
      "text/plain": [
       "<IPython.core.display.Math object>"
      ]
     },
     "metadata": {},
     "output_type": "display_data"
    },
    {
     "data": {
      "text/latex": [
       "$\\displaystyle {R}{}^{1}\\,{}_{2}\\,{}_{0}\\,{}_{2}\\, = \\frac{r e^{- \\lambda_{}{\\left(t,r \\right)}} \\frac{\\partial}{\\partial t} \\lambda_{}{\\left(t,r \\right)}}{2}$"
      ],
      "text/plain": [
       "<IPython.core.display.Math object>"
      ]
     },
     "metadata": {},
     "output_type": "display_data"
    },
    {
     "data": {
      "text/latex": [
       "$\\displaystyle {R}{}^{1}\\,{}_{2}\\,{}_{1}\\,{}_{2}\\, = \\frac{r e^{- \\lambda_{}{\\left(t,r \\right)}} \\frac{\\partial}{\\partial r} \\lambda_{}{\\left(t,r \\right)}}{2}$"
      ],
      "text/plain": [
       "<IPython.core.display.Math object>"
      ]
     },
     "metadata": {},
     "output_type": "display_data"
    },
    {
     "data": {
      "text/latex": [
       "$\\displaystyle {R}{}^{1}\\,{}_{2}\\,{}_{2}\\,{}_{0}\\, = - \\frac{r e^{- \\lambda_{}{\\left(t,r \\right)}} \\frac{\\partial}{\\partial t} \\lambda_{}{\\left(t,r \\right)}}{2}$"
      ],
      "text/plain": [
       "<IPython.core.display.Math object>"
      ]
     },
     "metadata": {},
     "output_type": "display_data"
    },
    {
     "data": {
      "text/latex": [
       "$\\displaystyle {R}{}^{1}\\,{}_{2}\\,{}_{2}\\,{}_{1}\\, = - \\frac{r e^{- \\lambda_{}{\\left(t,r \\right)}} \\frac{\\partial}{\\partial r} \\lambda_{}{\\left(t,r \\right)}}{2}$"
      ],
      "text/plain": [
       "<IPython.core.display.Math object>"
      ]
     },
     "metadata": {},
     "output_type": "display_data"
    },
    {
     "data": {
      "text/latex": [
       "$\\displaystyle {R}{}^{1}\\,{}_{3}\\,{}_{0}\\,{}_{3}\\, = \\frac{r e^{- \\lambda_{}{\\left(t,r \\right)}} \\sin^{2}{\\left(\\theta \\right)} \\frac{\\partial}{\\partial t} \\lambda_{}{\\left(t,r \\right)}}{2}$"
      ],
      "text/plain": [
       "<IPython.core.display.Math object>"
      ]
     },
     "metadata": {},
     "output_type": "display_data"
    },
    {
     "data": {
      "text/latex": [
       "$\\displaystyle {R}{}^{1}\\,{}_{3}\\,{}_{1}\\,{}_{3}\\, = \\frac{r e^{- \\lambda_{}{\\left(t,r \\right)}} \\sin^{2}{\\left(\\theta \\right)} \\frac{\\partial}{\\partial r} \\lambda_{}{\\left(t,r \\right)}}{2}$"
      ],
      "text/plain": [
       "<IPython.core.display.Math object>"
      ]
     },
     "metadata": {},
     "output_type": "display_data"
    },
    {
     "data": {
      "text/latex": [
       "$\\displaystyle {R}{}^{1}\\,{}_{3}\\,{}_{3}\\,{}_{0}\\, = - \\frac{r e^{- \\lambda_{}{\\left(t,r \\right)}} \\sin^{2}{\\left(\\theta \\right)} \\frac{\\partial}{\\partial t} \\lambda_{}{\\left(t,r \\right)}}{2}$"
      ],
      "text/plain": [
       "<IPython.core.display.Math object>"
      ]
     },
     "metadata": {},
     "output_type": "display_data"
    },
    {
     "data": {
      "text/latex": [
       "$\\displaystyle {R}{}^{1}\\,{}_{3}\\,{}_{3}\\,{}_{1}\\, = - \\frac{r e^{- \\lambda_{}{\\left(t,r \\right)}} \\sin^{2}{\\left(\\theta \\right)} \\frac{\\partial}{\\partial r} \\lambda_{}{\\left(t,r \\right)}}{2}$"
      ],
      "text/plain": [
       "<IPython.core.display.Math object>"
      ]
     },
     "metadata": {},
     "output_type": "display_data"
    },
    {
     "data": {
      "text/latex": [
       "$\\displaystyle {R}{}^{2}\\,{}_{0}\\,{}_{0}\\,{}_{2}\\, = - \\frac{e^{- \\lambda_{}{\\left(t,r \\right)}} e^{\\nu{\\left(t,r \\right)}} \\frac{\\partial}{\\partial r} \\nu{\\left(t,r \\right)}}{2 r}$"
      ],
      "text/plain": [
       "<IPython.core.display.Math object>"
      ]
     },
     "metadata": {},
     "output_type": "display_data"
    },
    {
     "data": {
      "text/latex": [
       "$\\displaystyle {R}{}^{2}\\,{}_{0}\\,{}_{1}\\,{}_{2}\\, = - \\frac{\\frac{\\partial}{\\partial t} \\lambda_{}{\\left(t,r \\right)}}{2 r}$"
      ],
      "text/plain": [
       "<IPython.core.display.Math object>"
      ]
     },
     "metadata": {},
     "output_type": "display_data"
    },
    {
     "data": {
      "text/latex": [
       "$\\displaystyle {R}{}^{2}\\,{}_{0}\\,{}_{2}\\,{}_{0}\\, = \\frac{e^{- \\lambda_{}{\\left(t,r \\right)}} e^{\\nu{\\left(t,r \\right)}} \\frac{\\partial}{\\partial r} \\nu{\\left(t,r \\right)}}{2 r}$"
      ],
      "text/plain": [
       "<IPython.core.display.Math object>"
      ]
     },
     "metadata": {},
     "output_type": "display_data"
    },
    {
     "data": {
      "text/latex": [
       "$\\displaystyle {R}{}^{2}\\,{}_{0}\\,{}_{2}\\,{}_{1}\\, = \\frac{\\frac{\\partial}{\\partial t} \\lambda_{}{\\left(t,r \\right)}}{2 r}$"
      ],
      "text/plain": [
       "<IPython.core.display.Math object>"
      ]
     },
     "metadata": {},
     "output_type": "display_data"
    },
    {
     "data": {
      "text/latex": [
       "$\\displaystyle {R}{}^{2}\\,{}_{1}\\,{}_{0}\\,{}_{2}\\, = - \\frac{\\frac{\\partial}{\\partial t} \\lambda_{}{\\left(t,r \\right)}}{2 r}$"
      ],
      "text/plain": [
       "<IPython.core.display.Math object>"
      ]
     },
     "metadata": {},
     "output_type": "display_data"
    },
    {
     "data": {
      "text/latex": [
       "$\\displaystyle {R}{}^{2}\\,{}_{1}\\,{}_{1}\\,{}_{2}\\, = - \\frac{\\frac{\\partial}{\\partial r} \\lambda_{}{\\left(t,r \\right)}}{2 r}$"
      ],
      "text/plain": [
       "<IPython.core.display.Math object>"
      ]
     },
     "metadata": {},
     "output_type": "display_data"
    },
    {
     "data": {
      "text/latex": [
       "$\\displaystyle {R}{}^{2}\\,{}_{1}\\,{}_{2}\\,{}_{0}\\, = \\frac{\\frac{\\partial}{\\partial t} \\lambda_{}{\\left(t,r \\right)}}{2 r}$"
      ],
      "text/plain": [
       "<IPython.core.display.Math object>"
      ]
     },
     "metadata": {},
     "output_type": "display_data"
    },
    {
     "data": {
      "text/latex": [
       "$\\displaystyle {R}{}^{2}\\,{}_{1}\\,{}_{2}\\,{}_{1}\\, = \\frac{\\frac{\\partial}{\\partial r} \\lambda_{}{\\left(t,r \\right)}}{2 r}$"
      ],
      "text/plain": [
       "<IPython.core.display.Math object>"
      ]
     },
     "metadata": {},
     "output_type": "display_data"
    },
    {
     "data": {
      "text/latex": [
       "$\\displaystyle {R}{}^{2}\\,{}_{3}\\,{}_{2}\\,{}_{3}\\, = \\left(e^{\\lambda_{}{\\left(t,r \\right)}} - 1\\right) e^{- \\lambda_{}{\\left(t,r \\right)}} \\sin^{2}{\\left(\\theta \\right)}$"
      ],
      "text/plain": [
       "<IPython.core.display.Math object>"
      ]
     },
     "metadata": {},
     "output_type": "display_data"
    },
    {
     "data": {
      "text/latex": [
       "$\\displaystyle {R}{}^{2}\\,{}_{3}\\,{}_{3}\\,{}_{2}\\, = - \\left(e^{\\lambda_{}{\\left(t,r \\right)}} - 1\\right) e^{- \\lambda_{}{\\left(t,r \\right)}} \\sin^{2}{\\left(\\theta \\right)}$"
      ],
      "text/plain": [
       "<IPython.core.display.Math object>"
      ]
     },
     "metadata": {},
     "output_type": "display_data"
    },
    {
     "data": {
      "text/latex": [
       "$\\displaystyle {R}{}^{3}\\,{}_{0}\\,{}_{0}\\,{}_{3}\\, = - \\frac{e^{- \\lambda_{}{\\left(t,r \\right)}} e^{\\nu{\\left(t,r \\right)}} \\frac{\\partial}{\\partial r} \\nu{\\left(t,r \\right)}}{2 r}$"
      ],
      "text/plain": [
       "<IPython.core.display.Math object>"
      ]
     },
     "metadata": {},
     "output_type": "display_data"
    },
    {
     "data": {
      "text/latex": [
       "$\\displaystyle {R}{}^{3}\\,{}_{0}\\,{}_{1}\\,{}_{3}\\, = - \\frac{\\frac{\\partial}{\\partial t} \\lambda_{}{\\left(t,r \\right)}}{2 r}$"
      ],
      "text/plain": [
       "<IPython.core.display.Math object>"
      ]
     },
     "metadata": {},
     "output_type": "display_data"
    },
    {
     "data": {
      "text/latex": [
       "$\\displaystyle {R}{}^{3}\\,{}_{0}\\,{}_{3}\\,{}_{0}\\, = \\frac{e^{- \\lambda_{}{\\left(t,r \\right)}} e^{\\nu{\\left(t,r \\right)}} \\frac{\\partial}{\\partial r} \\nu{\\left(t,r \\right)}}{2 r}$"
      ],
      "text/plain": [
       "<IPython.core.display.Math object>"
      ]
     },
     "metadata": {},
     "output_type": "display_data"
    },
    {
     "data": {
      "text/latex": [
       "$\\displaystyle {R}{}^{3}\\,{}_{0}\\,{}_{3}\\,{}_{1}\\, = \\frac{\\frac{\\partial}{\\partial t} \\lambda_{}{\\left(t,r \\right)}}{2 r}$"
      ],
      "text/plain": [
       "<IPython.core.display.Math object>"
      ]
     },
     "metadata": {},
     "output_type": "display_data"
    },
    {
     "data": {
      "text/latex": [
       "$\\displaystyle {R}{}^{3}\\,{}_{1}\\,{}_{0}\\,{}_{3}\\, = - \\frac{\\frac{\\partial}{\\partial t} \\lambda_{}{\\left(t,r \\right)}}{2 r}$"
      ],
      "text/plain": [
       "<IPython.core.display.Math object>"
      ]
     },
     "metadata": {},
     "output_type": "display_data"
    },
    {
     "data": {
      "text/latex": [
       "$\\displaystyle {R}{}^{3}\\,{}_{1}\\,{}_{1}\\,{}_{3}\\, = - \\frac{\\frac{\\partial}{\\partial r} \\lambda_{}{\\left(t,r \\right)}}{2 r}$"
      ],
      "text/plain": [
       "<IPython.core.display.Math object>"
      ]
     },
     "metadata": {},
     "output_type": "display_data"
    },
    {
     "data": {
      "text/latex": [
       "$\\displaystyle {R}{}^{3}\\,{}_{1}\\,{}_{3}\\,{}_{0}\\, = \\frac{\\frac{\\partial}{\\partial t} \\lambda_{}{\\left(t,r \\right)}}{2 r}$"
      ],
      "text/plain": [
       "<IPython.core.display.Math object>"
      ]
     },
     "metadata": {},
     "output_type": "display_data"
    },
    {
     "data": {
      "text/latex": [
       "$\\displaystyle {R}{}^{3}\\,{}_{1}\\,{}_{3}\\,{}_{1}\\, = \\frac{\\frac{\\partial}{\\partial r} \\lambda_{}{\\left(t,r \\right)}}{2 r}$"
      ],
      "text/plain": [
       "<IPython.core.display.Math object>"
      ]
     },
     "metadata": {},
     "output_type": "display_data"
    },
    {
     "data": {
      "text/latex": [
       "$\\displaystyle {R}{}^{3}\\,{}_{2}\\,{}_{2}\\,{}_{3}\\, = - \\left(e^{\\lambda_{}{\\left(t,r \\right)}} - 1\\right) e^{- \\lambda_{}{\\left(t,r \\right)}}$"
      ],
      "text/plain": [
       "<IPython.core.display.Math object>"
      ]
     },
     "metadata": {},
     "output_type": "display_data"
    },
    {
     "data": {
      "text/latex": [
       "$\\displaystyle {R}{}^{3}\\,{}_{2}\\,{}_{3}\\,{}_{2}\\, = \\left(e^{\\lambda_{}{\\left(t,r \\right)}} - 1\\right) e^{- \\lambda_{}{\\left(t,r \\right)}}$"
      ],
      "text/plain": [
       "<IPython.core.display.Math object>"
      ]
     },
     "metadata": {},
     "output_type": "display_data"
    }
   ],
   "source": [
    "R = pt.riemann()\n",
    "R.display(\"^,_,_,_\")"
   ]
  },
  {
   "cell_type": "code",
   "execution_count": 5,
   "id": "7087e717-d98c-462b-bd1c-34028142dc3d",
   "metadata": {},
   "outputs": [
    {
     "data": {
      "text/latex": [
       "Ricci Tensor $R_{\\alpha \\beta}$"
      ],
      "text/plain": [
       "<IPython.core.display.Latex object>"
      ]
     },
     "metadata": {},
     "output_type": "display_data"
    },
    {
     "data": {
      "application/vnd.jupyter.widget-view+json": {
       "model_id": "716d930cc6374b859c5b06b2687ca006",
       "version_major": 2,
       "version_minor": 0
      },
      "text/plain": [
       "  0%|          | 0/16 [00:00<?, ?it/s]"
      ]
     },
     "metadata": {},
     "output_type": "display_data"
    },
    {
     "data": {
      "text/latex": [
       "$\\displaystyle {R}{}_{0}\\,{}_{0}\\, = - \\frac{\\left(r e^{\\lambda_{}{\\left(t,r \\right)}} \\left(\\frac{\\partial}{\\partial t} \\lambda_{}{\\left(t,r \\right)}\\right)^{2} - r e^{\\lambda_{}{\\left(t,r \\right)}} \\frac{\\partial}{\\partial t} \\lambda_{}{\\left(t,r \\right)} \\frac{\\partial}{\\partial t} \\nu{\\left(t,r \\right)} + 2 r e^{\\lambda_{}{\\left(t,r \\right)}} \\frac{\\partial^{2}}{\\partial t^{2}} \\lambda_{}{\\left(t,r \\right)} + r e^{\\nu{\\left(t,r \\right)}} \\frac{\\partial}{\\partial r} \\lambda_{}{\\left(t,r \\right)} \\frac{\\partial}{\\partial r} \\nu{\\left(t,r \\right)} - r e^{\\nu{\\left(t,r \\right)}} \\left(\\frac{\\partial}{\\partial r} \\nu{\\left(t,r \\right)}\\right)^{2} - 2 r e^{\\nu{\\left(t,r \\right)}} \\frac{\\partial^{2}}{\\partial r^{2}} \\nu{\\left(t,r \\right)} - 4 e^{\\nu{\\left(t,r \\right)}} \\frac{\\partial}{\\partial r} \\nu{\\left(t,r \\right)}\\right) e^{- \\lambda_{}{\\left(t,r \\right)}}}{4 r}$"
      ],
      "text/plain": [
       "<IPython.core.display.Math object>"
      ]
     },
     "metadata": {},
     "output_type": "display_data"
    },
    {
     "data": {
      "text/latex": [
       "$\\displaystyle {R}{}_{0}\\,{}_{1}\\, = \\frac{\\frac{\\partial}{\\partial t} \\lambda_{}{\\left(t,r \\right)}}{r}$"
      ],
      "text/plain": [
       "<IPython.core.display.Math object>"
      ]
     },
     "metadata": {},
     "output_type": "display_data"
    },
    {
     "data": {
      "text/latex": [
       "$\\displaystyle {R}{}_{1}\\,{}_{0}\\, = \\frac{\\frac{\\partial}{\\partial t} \\lambda_{}{\\left(t,r \\right)}}{r}$"
      ],
      "text/plain": [
       "<IPython.core.display.Math object>"
      ]
     },
     "metadata": {},
     "output_type": "display_data"
    },
    {
     "data": {
      "text/latex": [
       "$\\displaystyle {R}{}_{1}\\,{}_{1}\\, = \\frac{\\left(r e^{\\lambda_{}{\\left(t,r \\right)}} \\left(\\frac{\\partial}{\\partial t} \\lambda_{}{\\left(t,r \\right)}\\right)^{2} - r e^{\\lambda_{}{\\left(t,r \\right)}} \\frac{\\partial}{\\partial t} \\lambda_{}{\\left(t,r \\right)} \\frac{\\partial}{\\partial t} \\nu{\\left(t,r \\right)} + 2 r e^{\\lambda_{}{\\left(t,r \\right)}} \\frac{\\partial^{2}}{\\partial t^{2}} \\lambda_{}{\\left(t,r \\right)} + r e^{\\nu{\\left(t,r \\right)}} \\frac{\\partial}{\\partial r} \\lambda_{}{\\left(t,r \\right)} \\frac{\\partial}{\\partial r} \\nu{\\left(t,r \\right)} - r e^{\\nu{\\left(t,r \\right)}} \\left(\\frac{\\partial}{\\partial r} \\nu{\\left(t,r \\right)}\\right)^{2} - 2 r e^{\\nu{\\left(t,r \\right)}} \\frac{\\partial^{2}}{\\partial r^{2}} \\nu{\\left(t,r \\right)} + 4 e^{\\nu{\\left(t,r \\right)}} \\frac{\\partial}{\\partial r} \\lambda_{}{\\left(t,r \\right)}\\right) e^{- \\nu{\\left(t,r \\right)}}}{4 r}$"
      ],
      "text/plain": [
       "<IPython.core.display.Math object>"
      ]
     },
     "metadata": {},
     "output_type": "display_data"
    },
    {
     "data": {
      "text/latex": [
       "$\\displaystyle {R}{}_{2}\\,{}_{2}\\, = \\frac{\\left(r \\frac{\\partial}{\\partial r} \\lambda_{}{\\left(t,r \\right)} - r \\frac{\\partial}{\\partial r} \\nu{\\left(t,r \\right)} + 2 e^{\\lambda_{}{\\left(t,r \\right)}} - 2\\right) e^{- \\lambda_{}{\\left(t,r \\right)}}}{2}$"
      ],
      "text/plain": [
       "<IPython.core.display.Math object>"
      ]
     },
     "metadata": {},
     "output_type": "display_data"
    },
    {
     "data": {
      "text/latex": [
       "$\\displaystyle {R}{}_{3}\\,{}_{3}\\, = \\frac{\\left(r \\frac{\\partial}{\\partial r} \\lambda_{}{\\left(t,r \\right)} - r \\frac{\\partial}{\\partial r} \\nu{\\left(t,r \\right)} + 2 e^{\\lambda_{}{\\left(t,r \\right)}} - 2\\right) e^{- \\lambda_{}{\\left(t,r \\right)}} \\sin^{2}{\\left(\\theta \\right)}}{2}$"
      ],
      "text/plain": [
       "<IPython.core.display.Math object>"
      ]
     },
     "metadata": {},
     "output_type": "display_data"
    }
   ],
   "source": [
    "Ric = pt.ricci()\n",
    "Ric.display('_,_',aslist=True)"
   ]
  },
  {
   "cell_type": "code",
   "execution_count": 6,
   "id": "6d0c80d9-772e-49b1-ac40-4bdda0dabf17",
   "metadata": {},
   "outputs": [
    {
     "data": {
      "application/vnd.jupyter.widget-view+json": {
       "model_id": "7c8a5dc9dde040f8a508a080b390a7c6",
       "version_major": 2,
       "version_minor": 0
      },
      "text/plain": [
       "  0%|          | 0/16 [00:00<?, ?it/s]"
      ]
     },
     "metadata": {},
     "output_type": "display_data"
    },
    {
     "data": {
      "text/latex": [
       "Ricci Scalar $R$"
      ],
      "text/plain": [
       "<IPython.core.display.Latex object>"
      ]
     },
     "metadata": {},
     "output_type": "display_data"
    },
    {
     "data": {
      "text/latex": [
       "$\\displaystyle - \\frac{\\left(r^{2} e^{\\lambda_{}{\\left(t,r \\right)}} \\left(\\frac{\\partial}{\\partial t} \\lambda_{}{\\left(t,r \\right)}\\right)^{2} - r^{2} e^{\\lambda_{}{\\left(t,r \\right)}} \\frac{\\partial}{\\partial t} \\lambda_{}{\\left(t,r \\right)} \\frac{\\partial}{\\partial t} \\nu{\\left(t,r \\right)} + 2 r^{2} e^{\\lambda_{}{\\left(t,r \\right)}} \\frac{\\partial^{2}}{\\partial t^{2}} \\lambda_{}{\\left(t,r \\right)} + r^{2} e^{\\nu{\\left(t,r \\right)}} \\frac{\\partial}{\\partial r} \\lambda_{}{\\left(t,r \\right)} \\frac{\\partial}{\\partial r} \\nu{\\left(t,r \\right)} - r^{2} e^{\\nu{\\left(t,r \\right)}} \\left(\\frac{\\partial}{\\partial r} \\nu{\\left(t,r \\right)}\\right)^{2} - 2 r^{2} e^{\\nu{\\left(t,r \\right)}} \\frac{\\partial^{2}}{\\partial r^{2}} \\nu{\\left(t,r \\right)} + 4 r e^{\\nu{\\left(t,r \\right)}} \\frac{\\partial}{\\partial r} \\lambda_{}{\\left(t,r \\right)} - 4 r e^{\\nu{\\left(t,r \\right)}} \\frac{\\partial}{\\partial r} \\nu{\\left(t,r \\right)} + 4 e^{\\lambda_{}{\\left(t,r \\right)}} e^{\\nu{\\left(t,r \\right)}} - 4 e^{\\nu{\\left(t,r \\right)}}\\right) e^{- \\lambda_{}{\\left(t,r \\right)}} e^{- \\nu{\\left(t,r \\right)}}}{2 r^{2}}$"
      ],
      "text/plain": [
       "<IPython.core.display.Math object>"
      ]
     },
     "metadata": {},
     "output_type": "display_data"
    }
   ],
   "source": [
    "S = pt.riccis()\n",
    "pt.display(S)"
   ]
  },
  {
   "cell_type": "code",
   "execution_count": 7,
   "id": "d71588b6-39aa-433d-b12a-5b05f9332a0b",
   "metadata": {},
   "outputs": [
    {
     "data": {
      "text/latex": [
       "Einstein Tensor $G_{\\alpha \\beta}$"
      ],
      "text/plain": [
       "<IPython.core.display.Latex object>"
      ]
     },
     "metadata": {},
     "output_type": "display_data"
    },
    {
     "data": {
      "application/vnd.jupyter.widget-view+json": {
       "model_id": "f1544ba6beaa44819f89efbd125dd320",
       "version_major": 2,
       "version_minor": 0
      },
      "text/plain": [
       "  0%|          | 0/16 [00:00<?, ?it/s]"
      ]
     },
     "metadata": {},
     "output_type": "display_data"
    },
    {
     "data": {
      "text/latex": [
       "$\\displaystyle {G}{}_{0}\\,{}_{0}\\, = \\frac{\\left(r \\frac{\\partial}{\\partial r} \\lambda_{}{\\left(t,r \\right)} + e^{\\lambda_{}{\\left(t,r \\right)}} - 1\\right) e^{- \\lambda_{}{\\left(t,r \\right)}} e^{\\nu{\\left(t,r \\right)}}}{r^{2}}$"
      ],
      "text/plain": [
       "<IPython.core.display.Math object>"
      ]
     },
     "metadata": {},
     "output_type": "display_data"
    },
    {
     "data": {
      "text/latex": [
       "$\\displaystyle {G}{}_{0}\\,{}_{1}\\, = \\frac{\\frac{\\partial}{\\partial t} \\lambda_{}{\\left(t,r \\right)}}{r}$"
      ],
      "text/plain": [
       "<IPython.core.display.Math object>"
      ]
     },
     "metadata": {},
     "output_type": "display_data"
    },
    {
     "data": {
      "text/latex": [
       "$\\displaystyle {G}{}_{1}\\,{}_{0}\\, = \\frac{\\frac{\\partial}{\\partial t} \\lambda_{}{\\left(t,r \\right)}}{r}$"
      ],
      "text/plain": [
       "<IPython.core.display.Math object>"
      ]
     },
     "metadata": {},
     "output_type": "display_data"
    },
    {
     "data": {
      "text/latex": [
       "$\\displaystyle {G}{}_{1}\\,{}_{1}\\, = \\frac{r \\frac{\\partial}{\\partial r} \\nu{\\left(t,r \\right)} - e^{\\lambda_{}{\\left(t,r \\right)}} + 1}{r^{2}}$"
      ],
      "text/plain": [
       "<IPython.core.display.Math object>"
      ]
     },
     "metadata": {},
     "output_type": "display_data"
    },
    {
     "data": {
      "text/latex": [
       "$\\displaystyle {G}{}_{2}\\,{}_{2}\\, = - \\frac{r \\left(r e^{\\lambda_{}{\\left(t,r \\right)}} \\left(\\frac{\\partial}{\\partial t} \\lambda_{}{\\left(t,r \\right)}\\right)^{2} - r e^{\\lambda_{}{\\left(t,r \\right)}} \\frac{\\partial}{\\partial t} \\lambda_{}{\\left(t,r \\right)} \\frac{\\partial}{\\partial t} \\nu{\\left(t,r \\right)} + 2 r e^{\\lambda_{}{\\left(t,r \\right)}} \\frac{\\partial^{2}}{\\partial t^{2}} \\lambda_{}{\\left(t,r \\right)} + r e^{\\nu{\\left(t,r \\right)}} \\frac{\\partial}{\\partial r} \\lambda_{}{\\left(t,r \\right)} \\frac{\\partial}{\\partial r} \\nu{\\left(t,r \\right)} - r e^{\\nu{\\left(t,r \\right)}} \\left(\\frac{\\partial}{\\partial r} \\nu{\\left(t,r \\right)}\\right)^{2} - 2 r e^{\\nu{\\left(t,r \\right)}} \\frac{\\partial^{2}}{\\partial r^{2}} \\nu{\\left(t,r \\right)} + 2 e^{\\nu{\\left(t,r \\right)}} \\frac{\\partial}{\\partial r} \\lambda_{}{\\left(t,r \\right)} - 2 e^{\\nu{\\left(t,r \\right)}} \\frac{\\partial}{\\partial r} \\nu{\\left(t,r \\right)}\\right) e^{- \\lambda_{}{\\left(t,r \\right)}} e^{- \\nu{\\left(t,r \\right)}}}{4}$"
      ],
      "text/plain": [
       "<IPython.core.display.Math object>"
      ]
     },
     "metadata": {},
     "output_type": "display_data"
    },
    {
     "data": {
      "text/latex": [
       "$\\displaystyle {G}{}_{3}\\,{}_{3}\\, = - \\frac{r \\left(r e^{\\lambda_{}{\\left(t,r \\right)}} \\left(\\frac{\\partial}{\\partial t} \\lambda_{}{\\left(t,r \\right)}\\right)^{2} - r e^{\\lambda_{}{\\left(t,r \\right)}} \\frac{\\partial}{\\partial t} \\lambda_{}{\\left(t,r \\right)} \\frac{\\partial}{\\partial t} \\nu{\\left(t,r \\right)} + 2 r e^{\\lambda_{}{\\left(t,r \\right)}} \\frac{\\partial^{2}}{\\partial t^{2}} \\lambda_{}{\\left(t,r \\right)} + r e^{\\nu{\\left(t,r \\right)}} \\frac{\\partial}{\\partial r} \\lambda_{}{\\left(t,r \\right)} \\frac{\\partial}{\\partial r} \\nu{\\left(t,r \\right)} - r e^{\\nu{\\left(t,r \\right)}} \\left(\\frac{\\partial}{\\partial r} \\nu{\\left(t,r \\right)}\\right)^{2} - 2 r e^{\\nu{\\left(t,r \\right)}} \\frac{\\partial^{2}}{\\partial r^{2}} \\nu{\\left(t,r \\right)} + 2 e^{\\nu{\\left(t,r \\right)}} \\frac{\\partial}{\\partial r} \\lambda_{}{\\left(t,r \\right)} - 2 e^{\\nu{\\left(t,r \\right)}} \\frac{\\partial}{\\partial r} \\nu{\\left(t,r \\right)}\\right) e^{- \\lambda_{}{\\left(t,r \\right)}} e^{- \\nu{\\left(t,r \\right)}} \\sin^{2}{\\left(\\theta \\right)}}{4}$"
      ],
      "text/plain": [
       "<IPython.core.display.Math object>"
      ]
     },
     "metadata": {},
     "output_type": "display_data"
    }
   ],
   "source": [
    "G = pt.einstein()\n",
    "G.display(aslist=True)"
   ]
  },
  {
   "cell_type": "code",
   "execution_count": null,
   "id": "62273e4d-929d-487e-b593-5b8d492818b6",
   "metadata": {},
   "outputs": [],
   "source": []
  }
 ],
 "metadata": {
  "kernelspec": {
   "display_name": "Python 3 (ipykernel)",
   "language": "python",
   "name": "python3"
  },
  "language_info": {
   "codemirror_mode": {
    "name": "ipython",
    "version": 3
   },
   "file_extension": ".py",
   "mimetype": "text/x-python",
   "name": "python",
   "nbconvert_exporter": "python",
   "pygments_lexer": "ipython3",
   "version": "3.12.0"
  }
 },
 "nbformat": 4,
 "nbformat_minor": 5
}
